{
 "cells": [
  {
   "cell_type": "markdown",
   "id": "a0e031cc",
   "metadata": {},
   "source": [
    "# Main Script"
   ]
  },
  {
   "cell_type": "code",
   "execution_count": 13,
   "id": "ebac88a9",
   "metadata": {},
   "outputs": [
    {
     "name": "stdout",
     "output_type": "stream",
     "text": [
      "BattingCard\n",
      "Extras\n",
      "FallOfWickets\n",
      "WagonWheel\n",
      "PartnershipScores\n",
      "PartnershipBreak\n",
      "BowlingCard\n",
      "ManhattanGraph\n",
      "ManhattanWickets\n",
      "OverHistory\n",
      "WagonWheelSummary\n",
      "battingheadtohead\n",
      "bowlingheadtohead\n"
     ]
    }
   ],
   "source": [
    "import requests\n",
    "import json\n",
    "import re\n",
    "import pandas as pd\n",
    "\n",
    "test_url = 'https://ipl-stats-sports-mechanic.s3.ap-south-1.amazonaws.com/ipl/feeds/1046-Innings2.js'\n",
    "\n",
    "response = requests.get(url=test_url)\n",
    "\n",
    "# Assuming the response text is stored in a variable called 'response'\n",
    "start_index = response.text.find('(') + 1\n",
    "end_index = response.text.rfind(')')\n",
    "\n",
    "json_data = response.text[start_index:end_index]\n",
    "data = json.loads(json_data)\n",
    "\n",
    "innings2_keys = data[\"Innings2\"].keys()\n",
    "\n",
    "if innings2_keys:\n",
    "    # The \"Innings2\" object exists in the JSON data\n",
    "    # You can use the retrieved keys or perform further operations\n",
    "    for key in innings2_keys:\n",
    "        print(key)\n",
    "else:\n",
    "    # The \"Innings2\" object was not found in the JSON data\n",
    "    # Handle the case accordingly\n",
    "    print(\"Innings2 not found.\")"
   ]
  },
  {
   "cell_type": "markdown",
   "id": "28e63565",
   "metadata": {},
   "source": [
    "# Batting Head to Head Data"
   ]
  },
  {
   "cell_type": "code",
   "execution_count": 2,
   "id": "91df4a5c",
   "metadata": {},
   "outputs": [],
   "source": [
    "if \"battingheadtohead\" in data[\"Innings2\"]:\n",
    "    battingheadtohead = data[\"Innings2\"][\"battingheadtohead\"]\n",
    "\n",
    "    # Create a list of dictionaries representing rows\n",
    "    battingheadtohead_rows = []\n",
    "    for item in battingheadtohead:\n",
    "        battingheadtohead_rows.append(item)"
   ]
  },
  {
   "cell_type": "code",
   "execution_count": 17,
   "id": "2e308ffb",
   "metadata": {},
   "outputs": [],
   "source": [
    "battingheadtohead_df=pd.DataFrame(battingheadtohead_rows)"
   ]
  },
  {
   "cell_type": "code",
   "execution_count": 18,
   "id": "dfb33887",
   "metadata": {},
   "outputs": [
    {
     "data": {
      "text/html": [
       "<div>\n",
       "<style scoped>\n",
       "    .dataframe tbody tr th:only-of-type {\n",
       "        vertical-align: middle;\n",
       "    }\n",
       "\n",
       "    .dataframe tbody tr th {\n",
       "        vertical-align: top;\n",
       "    }\n",
       "\n",
       "    .dataframe thead th {\n",
       "        text-align: right;\n",
       "    }\n",
       "</style>\n",
       "<table border=\"1\" class=\"dataframe\">\n",
       "  <thead>\n",
       "    <tr style=\"text-align: right;\">\n",
       "      <th></th>\n",
       "      <th>KPI</th>\n",
       "      <th>BatsManID</th>\n",
       "      <th>BowlerID</th>\n",
       "      <th>BatsManName</th>\n",
       "      <th>BowlerName</th>\n",
       "      <th>Runs</th>\n",
       "      <th>RunsThroughExtras</th>\n",
       "      <th>TotalRuns</th>\n",
       "      <th>BallsFaced</th>\n",
       "      <th>StrikeRate</th>\n",
       "      <th>...</th>\n",
       "      <th>ScoringBalls</th>\n",
       "      <th>Ones</th>\n",
       "      <th>Twos</th>\n",
       "      <th>Threes</th>\n",
       "      <th>Fours</th>\n",
       "      <th>Sixes</th>\n",
       "      <th>BdryFreq</th>\n",
       "      <th>BdryPercent</th>\n",
       "      <th>WicketLost</th>\n",
       "      <th>RPSS</th>\n",
       "    </tr>\n",
       "  </thead>\n",
       "  <tbody>\n",
       "    <tr>\n",
       "      <th>0</th>\n",
       "      <td>Head To Head</td>\n",
       "      <td>2018-100mb00000000044-e03a43dbf88a11</td>\n",
       "      <td>134c0289560f4aa896a37534c1b1e80</td>\n",
       "      <td>Ajinkya Rahane</td>\n",
       "      <td>Josh Little</td>\n",
       "      <td>15</td>\n",
       "      <td>0</td>\n",
       "      <td>15</td>\n",
       "      <td>5</td>\n",
       "      <td>300.00</td>\n",
       "      <td>...</td>\n",
       "      <td>4</td>\n",
       "      <td>1</td>\n",
       "      <td>1</td>\n",
       "      <td>0</td>\n",
       "      <td>0</td>\n",
       "      <td>2</td>\n",
       "      <td>2.50</td>\n",
       "      <td>80.00</td>\n",
       "      <td>0</td>\n",
       "      <td>3.75</td>\n",
       "    </tr>\n",
       "    <tr>\n",
       "      <th>1</th>\n",
       "      <td>Head To Head</td>\n",
       "      <td>2018-100mb00000000044-e03a43dbf88a11</td>\n",
       "      <td>2019-100mb00000000100-f196053e43f611</td>\n",
       "      <td>Ajinkya Rahane</td>\n",
       "      <td>Mohit Sharma</td>\n",
       "      <td>1</td>\n",
       "      <td>0</td>\n",
       "      <td>1</td>\n",
       "      <td>2</td>\n",
       "      <td>50.00</td>\n",
       "      <td>...</td>\n",
       "      <td>1</td>\n",
       "      <td>1</td>\n",
       "      <td>0</td>\n",
       "      <td>0</td>\n",
       "      <td>0</td>\n",
       "      <td>0</td>\n",
       "      <td>0.00</td>\n",
       "      <td>0.00</td>\n",
       "      <td>1</td>\n",
       "      <td>1.00</td>\n",
       "    </tr>\n",
       "  </tbody>\n",
       "</table>\n",
       "<p>2 rows × 23 columns</p>\n",
       "</div>"
      ],
      "text/plain": [
       "            KPI                             BatsManID   \n",
       "0  Head To Head  2018-100mb00000000044-e03a43dbf88a11  \\\n",
       "1  Head To Head  2018-100mb00000000044-e03a43dbf88a11   \n",
       "\n",
       "                               BowlerID     BatsManName    BowlerName Runs   \n",
       "0       134c0289560f4aa896a37534c1b1e80  Ajinkya Rahane   Josh Little   15  \\\n",
       "1  2019-100mb00000000100-f196053e43f611  Ajinkya Rahane  Mohit Sharma    1   \n",
       "\n",
       "  RunsThroughExtras TotalRuns BallsFaced StrikeRate  ... ScoringBalls Ones   \n",
       "0                 0        15          5     300.00  ...            4    1  \\\n",
       "1                 0         1          2      50.00  ...            1    1   \n",
       "\n",
       "  Twos Threes Fours Sixes BdryFreq BdryPercent WicketLost  RPSS  \n",
       "0    1      0     0     2     2.50       80.00          0  3.75  \n",
       "1    0      0     0     0     0.00        0.00          1  1.00  \n",
       "\n",
       "[2 rows x 23 columns]"
      ]
     },
     "execution_count": 18,
     "metadata": {},
     "output_type": "execute_result"
    }
   ],
   "source": [
    "battingheadtohead_df.head(2)"
   ]
  },
  {
   "cell_type": "code",
   "execution_count": 19,
   "id": "67051c71",
   "metadata": {},
   "outputs": [
    {
     "name": "stdout",
     "output_type": "stream",
     "text": [
      "exported to CSV\n"
     ]
    }
   ],
   "source": [
    "#battingheadtohead_df.to_csv('2_battingheadtohead.csv', index=False)\n",
    "print ('exported to CSV')"
   ]
  },
  {
   "cell_type": "markdown",
   "id": "65e0b190",
   "metadata": {},
   "source": [
    "# BowlingCard"
   ]
  },
  {
   "cell_type": "code",
   "execution_count": 3,
   "id": "d3d5e70e",
   "metadata": {},
   "outputs": [],
   "source": [
    "if \"BowlingCard\" in data[\"Innings2\"]:\n",
    "    BowlingCard = data[\"Innings2\"][\"BowlingCard\"]\n",
    "\n",
    "    # Create a list of dictionaries representing rows\n",
    "    BowlingCard_rows = []\n",
    "    for item in BowlingCard:\n",
    "        BowlingCard_rows.append(item)"
   ]
  },
  {
   "cell_type": "code",
   "execution_count": 20,
   "id": "a2004906",
   "metadata": {},
   "outputs": [],
   "source": [
    "BowlingCard_df = pd.DataFrame(BowlingCard_rows)"
   ]
  },
  {
   "cell_type": "code",
   "execution_count": 21,
   "id": "09035493",
   "metadata": {},
   "outputs": [
    {
     "data": {
      "text/html": [
       "<div>\n",
       "<style scoped>\n",
       "    .dataframe tbody tr th:only-of-type {\n",
       "        vertical-align: middle;\n",
       "    }\n",
       "\n",
       "    .dataframe tbody tr th {\n",
       "        vertical-align: top;\n",
       "    }\n",
       "\n",
       "    .dataframe thead th {\n",
       "        text-align: right;\n",
       "    }\n",
       "</style>\n",
       "<table border=\"1\" class=\"dataframe\">\n",
       "  <thead>\n",
       "    <tr style=\"text-align: right;\">\n",
       "      <th></th>\n",
       "      <th>MatchID</th>\n",
       "      <th>InningsNo</th>\n",
       "      <th>TeamID</th>\n",
       "      <th>PlayerID</th>\n",
       "      <th>PlayerName</th>\n",
       "      <th>PlayerShortName</th>\n",
       "      <th>PlayerImageName</th>\n",
       "      <th>PlayerImage</th>\n",
       "      <th>Overs</th>\n",
       "      <th>Maidens</th>\n",
       "      <th>...</th>\n",
       "      <th>Ones</th>\n",
       "      <th>Twos</th>\n",
       "      <th>Threes</th>\n",
       "      <th>Fours</th>\n",
       "      <th>Sixes</th>\n",
       "      <th>BdryPercent</th>\n",
       "      <th>BdryFreq</th>\n",
       "      <th>StrikeRate</th>\n",
       "      <th>FourPercent</th>\n",
       "      <th>SixPercent</th>\n",
       "    </tr>\n",
       "  </thead>\n",
       "  <tbody>\n",
       "    <tr>\n",
       "      <th>0</th>\n",
       "      <td>1046</td>\n",
       "      <td>2</td>\n",
       "      <td>35</td>\n",
       "      <td>2018-100mb00000000047-1bfc8ff2f88b11</td>\n",
       "      <td>Mohammad Shami</td>\n",
       "      <td>Mohammad Shami</td>\n",
       "      <td>https://scores.iplt20.com/ipl/playerimages/9Lw...</td>\n",
       "      <td>https://scores.iplt20.com/ipl/playerimages/9Lw...</td>\n",
       "      <td>3</td>\n",
       "      <td>0</td>\n",
       "      <td>...</td>\n",
       "      <td>5</td>\n",
       "      <td>4</td>\n",
       "      <td>0</td>\n",
       "      <td>4</td>\n",
       "      <td>0</td>\n",
       "      <td>55.17</td>\n",
       "      <td>4.50</td>\n",
       "      <td>0</td>\n",
       "      <td>55.17</td>\n",
       "      <td>0.00</td>\n",
       "    </tr>\n",
       "    <tr>\n",
       "      <th>1</th>\n",
       "      <td>1046</td>\n",
       "      <td>2</td>\n",
       "      <td>35</td>\n",
       "      <td>2018-100mb00000000054-e3ebefa2050a11</td>\n",
       "      <td>Hardik Pandya</td>\n",
       "      <td>Hardik Pandya</td>\n",
       "      <td>https://scores.iplt20.com/ipl/playerimages/3oC...</td>\n",
       "      <td>https://scores.iplt20.com/ipl/playerimages/3oC...</td>\n",
       "      <td>1</td>\n",
       "      <td>0</td>\n",
       "      <td>...</td>\n",
       "      <td>3</td>\n",
       "      <td>0</td>\n",
       "      <td>0</td>\n",
       "      <td>1</td>\n",
       "      <td>1</td>\n",
       "      <td>71.43</td>\n",
       "      <td>3.00</td>\n",
       "      <td>0</td>\n",
       "      <td>28.57</td>\n",
       "      <td>42.86</td>\n",
       "    </tr>\n",
       "  </tbody>\n",
       "</table>\n",
       "<p>2 rows × 31 columns</p>\n",
       "</div>"
      ],
      "text/plain": [
       "   MatchID  InningsNo  TeamID                              PlayerID   \n",
       "0     1046          2      35  2018-100mb00000000047-1bfc8ff2f88b11  \\\n",
       "1     1046          2      35  2018-100mb00000000054-e3ebefa2050a11   \n",
       "\n",
       "       PlayerName PlayerShortName   \n",
       "0  Mohammad Shami  Mohammad Shami  \\\n",
       "1   Hardik Pandya   Hardik Pandya   \n",
       "\n",
       "                                     PlayerImageName   \n",
       "0  https://scores.iplt20.com/ipl/playerimages/9Lw...  \\\n",
       "1  https://scores.iplt20.com/ipl/playerimages/3oC...   \n",
       "\n",
       "                                         PlayerImage  Overs  Maidens  ...   \n",
       "0  https://scores.iplt20.com/ipl/playerimages/9Lw...      3        0  ...  \\\n",
       "1  https://scores.iplt20.com/ipl/playerimages/3oC...      1        0  ...   \n",
       "\n",
       "   Ones  Twos  Threes  Fours  Sixes  BdryPercent  BdryFreq  StrikeRate   \n",
       "0     5     4       0      4      0        55.17      4.50           0  \\\n",
       "1     3     0       0      1      1        71.43      3.00           0   \n",
       "\n",
       "   FourPercent SixPercent  \n",
       "0        55.17       0.00  \n",
       "1        28.57      42.86  \n",
       "\n",
       "[2 rows x 31 columns]"
      ]
     },
     "execution_count": 21,
     "metadata": {},
     "output_type": "execute_result"
    }
   ],
   "source": [
    "BowlingCard_df.head(2)"
   ]
  },
  {
   "cell_type": "code",
   "execution_count": 22,
   "id": "7a0a556e",
   "metadata": {},
   "outputs": [
    {
     "name": "stdout",
     "output_type": "stream",
     "text": [
      "exported to CSV\n"
     ]
    }
   ],
   "source": [
    "#BowlingCard_df.to_csv('2_BowlingCard.csv', index=False)\n",
    "print ('exported to CSV')"
   ]
  },
  {
   "cell_type": "markdown",
   "id": "c66336c6",
   "metadata": {},
   "source": [
    "# bowlingheadtohead"
   ]
  },
  {
   "cell_type": "code",
   "execution_count": 4,
   "id": "1895709c",
   "metadata": {},
   "outputs": [],
   "source": [
    "if \"bowlingheadtohead\" in data[\"Innings2\"]:\n",
    "    bowlingheadtohead = data[\"Innings2\"][\"bowlingheadtohead\"]\n",
    "\n",
    "    # Create a list of dictionaries representing rows\n",
    "    bowlingheadtohead_rows = []\n",
    "    for item in bowlingheadtohead:\n",
    "        bowlingheadtohead_rows.append(item)"
   ]
  },
  {
   "cell_type": "code",
   "execution_count": 24,
   "id": "0482d6f7",
   "metadata": {},
   "outputs": [],
   "source": [
    "bowlingheadtohead_df = pd.DataFrame(bowlingheadtohead_rows)"
   ]
  },
  {
   "cell_type": "code",
   "execution_count": 25,
   "id": "8b9c4152",
   "metadata": {},
   "outputs": [
    {
     "data": {
      "text/html": [
       "<div>\n",
       "<style scoped>\n",
       "    .dataframe tbody tr th:only-of-type {\n",
       "        vertical-align: middle;\n",
       "    }\n",
       "\n",
       "    .dataframe tbody tr th {\n",
       "        vertical-align: top;\n",
       "    }\n",
       "\n",
       "    .dataframe thead th {\n",
       "        text-align: right;\n",
       "    }\n",
       "</style>\n",
       "<table border=\"1\" class=\"dataframe\">\n",
       "  <thead>\n",
       "    <tr style=\"text-align: right;\">\n",
       "      <th></th>\n",
       "      <th>KPI</th>\n",
       "      <th>MatchID</th>\n",
       "      <th>BowlerID</th>\n",
       "      <th>BowlerName</th>\n",
       "      <th>StrikerID</th>\n",
       "      <th>BatsManName</th>\n",
       "      <th>TotalRunsConceded</th>\n",
       "      <th>BowlingAverage</th>\n",
       "      <th>TotalLegalBallsBowled</th>\n",
       "      <th>BowlingSR</th>\n",
       "      <th>...</th>\n",
       "      <th>Wides</th>\n",
       "      <th>NoBalls</th>\n",
       "      <th>Wickets</th>\n",
       "      <th>RunOutsDone</th>\n",
       "      <th>BowledOutsDone</th>\n",
       "      <th>StumpingsDone</th>\n",
       "      <th>BowlingDotBallPercentage</th>\n",
       "      <th>BowlingDotBallFrequency</th>\n",
       "      <th>BowlingBdryPercentage</th>\n",
       "      <th>BowlingBdryFrequency</th>\n",
       "    </tr>\n",
       "  </thead>\n",
       "  <tbody>\n",
       "    <tr>\n",
       "      <th>0</th>\n",
       "      <td>Head To Head</td>\n",
       "      <td>1046</td>\n",
       "      <td>134c0289560f4aa896a37534c1b1e80</td>\n",
       "      <td>Josh Little</td>\n",
       "      <td>2018-100mb00000000044-e03a43dbf88a11</td>\n",
       "      <td>Ajinkya Rahane</td>\n",
       "      <td>15</td>\n",
       "      <td>0.00</td>\n",
       "      <td>5</td>\n",
       "      <td>0.00</td>\n",
       "      <td>...</td>\n",
       "      <td>0</td>\n",
       "      <td>0</td>\n",
       "      <td>0</td>\n",
       "      <td>0</td>\n",
       "      <td>0</td>\n",
       "      <td>0</td>\n",
       "      <td>20.00</td>\n",
       "      <td>5.00</td>\n",
       "      <td>80.00</td>\n",
       "      <td>2.50</td>\n",
       "    </tr>\n",
       "    <tr>\n",
       "      <th>1</th>\n",
       "      <td>Head To Head</td>\n",
       "      <td>1046</td>\n",
       "      <td>134c0289560f4aa896a37534c1b1e80</td>\n",
       "      <td>Josh Little</td>\n",
       "      <td>2019-100mb00000000102-28e7fca043fc11</td>\n",
       "      <td>Ruturaj Gaikwad</td>\n",
       "      <td>1</td>\n",
       "      <td>0.00</td>\n",
       "      <td>1</td>\n",
       "      <td>0.00</td>\n",
       "      <td>...</td>\n",
       "      <td>0</td>\n",
       "      <td>0</td>\n",
       "      <td>0</td>\n",
       "      <td>0</td>\n",
       "      <td>0</td>\n",
       "      <td>0</td>\n",
       "      <td>0.00</td>\n",
       "      <td>0.00</td>\n",
       "      <td>0.00</td>\n",
       "      <td>0.00</td>\n",
       "    </tr>\n",
       "  </tbody>\n",
       "</table>\n",
       "<p>2 rows × 28 columns</p>\n",
       "</div>"
      ],
      "text/plain": [
       "            KPI MatchID                         BowlerID   BowlerName   \n",
       "0  Head To Head    1046  134c0289560f4aa896a37534c1b1e80  Josh Little  \\\n",
       "1  Head To Head    1046  134c0289560f4aa896a37534c1b1e80  Josh Little   \n",
       "\n",
       "                              StrikerID      BatsManName TotalRunsConceded   \n",
       "0  2018-100mb00000000044-e03a43dbf88a11   Ajinkya Rahane                15  \\\n",
       "1  2019-100mb00000000102-28e7fca043fc11  Ruturaj Gaikwad                 1   \n",
       "\n",
       "  BowlingAverage TotalLegalBallsBowled BowlingSR  ... Wides NoBalls Wickets   \n",
       "0           0.00                     5      0.00  ...     0       0       0  \\\n",
       "1           0.00                     1      0.00  ...     0       0       0   \n",
       "\n",
       "  RunOutsDone BowledOutsDone StumpingsDone BowlingDotBallPercentage   \n",
       "0           0              0             0                    20.00  \\\n",
       "1           0              0             0                     0.00   \n",
       "\n",
       "  BowlingDotBallFrequency BowlingBdryPercentage BowlingBdryFrequency  \n",
       "0                    5.00                 80.00                 2.50  \n",
       "1                    0.00                  0.00                 0.00  \n",
       "\n",
       "[2 rows x 28 columns]"
      ]
     },
     "execution_count": 25,
     "metadata": {},
     "output_type": "execute_result"
    }
   ],
   "source": [
    "bowlingheadtohead_df.head(2)"
   ]
  },
  {
   "cell_type": "code",
   "execution_count": 26,
   "id": "5a9818d0",
   "metadata": {},
   "outputs": [
    {
     "name": "stdout",
     "output_type": "stream",
     "text": [
      "exported to CSV\n"
     ]
    }
   ],
   "source": [
    "#bowlingheadtohead_df.to_csv('2_bowlingheadtohead.csv', index=False)\n",
    "print ('exported to CSV')"
   ]
  },
  {
   "cell_type": "markdown",
   "id": "4011f25e",
   "metadata": {},
   "source": [
    "# Extras"
   ]
  },
  {
   "cell_type": "code",
   "execution_count": 5,
   "id": "82020408",
   "metadata": {},
   "outputs": [],
   "source": [
    "if \"Extras\" in data[\"Innings2\"]:\n",
    "    Extras = data[\"Innings2\"][\"Extras\"]\n",
    "\n",
    "    # Create a list of dictionaries representing rows\n",
    "    Extras_rows = []\n",
    "    for item in Extras:\n",
    "        Extras_rows.append(item)"
   ]
  },
  {
   "cell_type": "code",
   "execution_count": 27,
   "id": "978c0c99",
   "metadata": {},
   "outputs": [],
   "source": [
    "Extras_df = pd.DataFrame(Extras_rows)"
   ]
  },
  {
   "cell_type": "code",
   "execution_count": 28,
   "id": "0951a3b6",
   "metadata": {},
   "outputs": [
    {
     "data": {
      "text/html": [
       "<div>\n",
       "<style scoped>\n",
       "    .dataframe tbody tr th:only-of-type {\n",
       "        vertical-align: middle;\n",
       "    }\n",
       "\n",
       "    .dataframe tbody tr th {\n",
       "        vertical-align: top;\n",
       "    }\n",
       "\n",
       "    .dataframe thead th {\n",
       "        text-align: right;\n",
       "    }\n",
       "</style>\n",
       "<table border=\"1\" class=\"dataframe\">\n",
       "  <thead>\n",
       "    <tr style=\"text-align: right;\">\n",
       "      <th></th>\n",
       "      <th>MatchID</th>\n",
       "      <th>InningsNo</th>\n",
       "      <th>TeamID</th>\n",
       "      <th>Total</th>\n",
       "      <th>TotalExtras</th>\n",
       "      <th>Byes</th>\n",
       "      <th>LegByes</th>\n",
       "      <th>NoBalls</th>\n",
       "      <th>Wides</th>\n",
       "      <th>Penalty</th>\n",
       "      <th>CurrentRunRate</th>\n",
       "      <th>FallScore</th>\n",
       "      <th>FallWickets</th>\n",
       "      <th>FallOvers</th>\n",
       "      <th>BattingTeamName</th>\n",
       "      <th>BowlingTeamName</th>\n",
       "      <th>MaxPartnerShipRuns</th>\n",
       "    </tr>\n",
       "  </thead>\n",
       "  <tbody>\n",
       "    <tr>\n",
       "      <th>0</th>\n",
       "      <td>1046</td>\n",
       "      <td>2</td>\n",
       "      <td>13</td>\n",
       "      <td>171/5 (15.0 Overs)</td>\n",
       "      <td>5</td>\n",
       "      <td>0</td>\n",
       "      <td>1</td>\n",
       "      <td>0</td>\n",
       "      <td>4</td>\n",
       "      <td></td>\n",
       "      <td>11.4</td>\n",
       "      <td>171</td>\n",
       "      <td>5</td>\n",
       "      <td>15.0</td>\n",
       "      <td>Chennai Super Kings</td>\n",
       "      <td>Gujarat Titans</td>\n",
       "      <td>74</td>\n",
       "    </tr>\n",
       "  </tbody>\n",
       "</table>\n",
       "</div>"
      ],
      "text/plain": [
       "  MatchID  InningsNo TeamID               Total TotalExtras Byes LegByes   \n",
       "0    1046          2     13  171/5 (15.0 Overs)           5    0       1  \\\n",
       "\n",
       "  NoBalls Wides Penalty CurrentRunRate FallScore FallWickets FallOvers   \n",
       "0       0     4                   11.4       171           5      15.0  \\\n",
       "\n",
       "       BattingTeamName BowlingTeamName  MaxPartnerShipRuns  \n",
       "0  Chennai Super Kings  Gujarat Titans                  74  "
      ]
     },
     "execution_count": 28,
     "metadata": {},
     "output_type": "execute_result"
    }
   ],
   "source": [
    "Extras_df.head(2)"
   ]
  },
  {
   "cell_type": "code",
   "execution_count": 29,
   "id": "a37f55c7",
   "metadata": {},
   "outputs": [
    {
     "name": "stdout",
     "output_type": "stream",
     "text": [
      "exported to CSV\n"
     ]
    }
   ],
   "source": [
    "#Extras_df.to_csv('2_Extras_df.csv', index=False)\n",
    "print ('exported to CSV')"
   ]
  },
  {
   "cell_type": "markdown",
   "id": "9828bbe3",
   "metadata": {},
   "source": [
    "# FallOfWickets"
   ]
  },
  {
   "cell_type": "code",
   "execution_count": 6,
   "id": "ae352266",
   "metadata": {},
   "outputs": [],
   "source": [
    "if \"FallOfWickets\" in data[\"Innings2\"]:\n",
    "    FallOfWickets = data[\"Innings2\"][\"FallOfWickets\"]\n",
    "\n",
    "    # Create a list of dictionaries representing rows\n",
    "    FallOfWickets_rows = []\n",
    "    for item in FallOfWickets:\n",
    "        FallOfWickets_rows.append(item)"
   ]
  },
  {
   "cell_type": "code",
   "execution_count": 30,
   "id": "5046ee35",
   "metadata": {},
   "outputs": [],
   "source": [
    "FallOfWickets_df = pd.DataFrame(FallOfWickets_rows)"
   ]
  },
  {
   "cell_type": "code",
   "execution_count": 32,
   "id": "2ce096d6",
   "metadata": {},
   "outputs": [
    {
     "data": {
      "text/html": [
       "<div>\n",
       "<style scoped>\n",
       "    .dataframe tbody tr th:only-of-type {\n",
       "        vertical-align: middle;\n",
       "    }\n",
       "\n",
       "    .dataframe tbody tr th {\n",
       "        vertical-align: top;\n",
       "    }\n",
       "\n",
       "    .dataframe thead th {\n",
       "        text-align: right;\n",
       "    }\n",
       "</style>\n",
       "<table border=\"1\" class=\"dataframe\">\n",
       "  <thead>\n",
       "    <tr style=\"text-align: right;\">\n",
       "      <th></th>\n",
       "      <th>MatchID</th>\n",
       "      <th>InningsNo</th>\n",
       "      <th>TeamID</th>\n",
       "      <th>PlayerID</th>\n",
       "      <th>PlayerName</th>\n",
       "      <th>Score</th>\n",
       "      <th>FallScore</th>\n",
       "      <th>FallWickets</th>\n",
       "      <th>FallOvers</th>\n",
       "    </tr>\n",
       "  </thead>\n",
       "  <tbody>\n",
       "    <tr>\n",
       "      <th>0</th>\n",
       "      <td>1046</td>\n",
       "      <td>2</td>\n",
       "      <td>13</td>\n",
       "      <td>2019-100mb00000000102-28e7fca043fc11</td>\n",
       "      <td>Ruturaj Gaikwad</td>\n",
       "      <td>74/1(6.3)</td>\n",
       "      <td>74</td>\n",
       "      <td>1</td>\n",
       "      <td>6.3</td>\n",
       "    </tr>\n",
       "    <tr>\n",
       "      <th>1</th>\n",
       "      <td>1046</td>\n",
       "      <td>2</td>\n",
       "      <td>13</td>\n",
       "      <td>2021-100mb00000000601-517399b0ceaf11</td>\n",
       "      <td>Devon Conway</td>\n",
       "      <td>78/2(6.6)</td>\n",
       "      <td>78</td>\n",
       "      <td>2</td>\n",
       "      <td>6.6</td>\n",
       "    </tr>\n",
       "  </tbody>\n",
       "</table>\n",
       "</div>"
      ],
      "text/plain": [
       "  MatchID  InningsNo TeamID                              PlayerID   \n",
       "0    1046          2     13  2019-100mb00000000102-28e7fca043fc11  \\\n",
       "1    1046          2     13  2021-100mb00000000601-517399b0ceaf11   \n",
       "\n",
       "        PlayerName      Score FallScore  FallWickets FallOvers  \n",
       "0  Ruturaj Gaikwad  74/1(6.3)        74            1       6.3  \n",
       "1     Devon Conway  78/2(6.6)        78            2       6.6  "
      ]
     },
     "execution_count": 32,
     "metadata": {},
     "output_type": "execute_result"
    }
   ],
   "source": [
    "FallOfWickets_df.head(2)"
   ]
  },
  {
   "cell_type": "code",
   "execution_count": 33,
   "id": "e1867224",
   "metadata": {},
   "outputs": [
    {
     "name": "stdout",
     "output_type": "stream",
     "text": [
      "exported to CSV\n"
     ]
    }
   ],
   "source": [
    "#FallOfWickets_df.to_csv('2_FallOfWickets.csv', index=False)\n",
    "print ('exported to CSV')"
   ]
  },
  {
   "cell_type": "markdown",
   "id": "02d600ad",
   "metadata": {},
   "source": [
    "# ManhattanGraph"
   ]
  },
  {
   "cell_type": "code",
   "execution_count": 7,
   "id": "a2ad2e77",
   "metadata": {},
   "outputs": [],
   "source": [
    "if \"ManhattanGraph\" in data[\"Innings2\"]:\n",
    "    ManhattanGraph = data[\"Innings2\"][\"ManhattanGraph\"]\n",
    "\n",
    "    # Create a list of dictionaries representing rows\n",
    "    ManhattanGraph_rows = []\n",
    "    for item in ManhattanGraph:\n",
    "        ManhattanGraph_rows.append(item)"
   ]
  },
  {
   "cell_type": "code",
   "execution_count": 34,
   "id": "f9978a62",
   "metadata": {},
   "outputs": [
    {
     "data": {
      "text/html": [
       "<div>\n",
       "<style scoped>\n",
       "    .dataframe tbody tr th:only-of-type {\n",
       "        vertical-align: middle;\n",
       "    }\n",
       "\n",
       "    .dataframe tbody tr th {\n",
       "        vertical-align: top;\n",
       "    }\n",
       "\n",
       "    .dataframe thead th {\n",
       "        text-align: right;\n",
       "    }\n",
       "</style>\n",
       "<table border=\"1\" class=\"dataframe\">\n",
       "  <thead>\n",
       "    <tr style=\"text-align: right;\">\n",
       "      <th></th>\n",
       "      <th>InningsNo</th>\n",
       "      <th>OverNo</th>\n",
       "      <th>BattingTeamID</th>\n",
       "      <th>OverRuns</th>\n",
       "      <th>BowlerRuns</th>\n",
       "      <th>BowlerID</th>\n",
       "      <th>Wickets</th>\n",
       "      <th>Bowler</th>\n",
       "    </tr>\n",
       "  </thead>\n",
       "  <tbody>\n",
       "    <tr>\n",
       "      <th>0</th>\n",
       "      <td>1</td>\n",
       "      <td>0</td>\n",
       "      <td>0</td>\n",
       "      <td>4</td>\n",
       "      <td>4</td>\n",
       "      <td>2019-100mb00000000091-8640595343ec11</td>\n",
       "      <td>0</td>\n",
       "      <td>Deepak Chahar</td>\n",
       "    </tr>\n",
       "    <tr>\n",
       "      <th>1</th>\n",
       "      <td>1</td>\n",
       "      <td>1</td>\n",
       "      <td>0</td>\n",
       "      <td>4</td>\n",
       "      <td>4</td>\n",
       "      <td>2020-100mb00000000539-04833b65639b11</td>\n",
       "      <td>0</td>\n",
       "      <td>Tushar Deshpande</td>\n",
       "    </tr>\n",
       "  </tbody>\n",
       "</table>\n",
       "</div>"
      ],
      "text/plain": [
       "   InningsNo  OverNo  BattingTeamID  OverRuns  BowlerRuns   \n",
       "0          1       0              0         4           4  \\\n",
       "1          1       1              0         4           4   \n",
       "\n",
       "                               BowlerID  Wickets            Bowler  \n",
       "0  2019-100mb00000000091-8640595343ec11        0     Deepak Chahar  \n",
       "1  2020-100mb00000000539-04833b65639b11        0  Tushar Deshpande  "
      ]
     },
     "execution_count": 34,
     "metadata": {},
     "output_type": "execute_result"
    }
   ],
   "source": [
    "ManhattanGraph_df = pd.DataFrame(ManhattanGraph_rows)\n",
    "ManhattanGraph_df.head(2)"
   ]
  },
  {
   "cell_type": "code",
   "execution_count": 36,
   "id": "32396a8b",
   "metadata": {},
   "outputs": [
    {
     "name": "stdout",
     "output_type": "stream",
     "text": [
      "exported to CSV\n"
     ]
    }
   ],
   "source": [
    "#ManhattanGraph_df.to_csv('2_ManhattanGraph.csv', index=False)\n",
    "print ('exported to CSV')"
   ]
  },
  {
   "cell_type": "markdown",
   "id": "647077e9",
   "metadata": {},
   "source": [
    "# ManhattanWickets"
   ]
  },
  {
   "cell_type": "code",
   "execution_count": 8,
   "id": "06fa13dd",
   "metadata": {},
   "outputs": [],
   "source": [
    "if \"ManhattanWickets\" in data[\"Innings2\"]:\n",
    "    ManhattanWickets = data[\"Innings2\"][\"ManhattanWickets\"]\n",
    "\n",
    "    # Create a list of dictionaries representing rows\n",
    "    ManhattanWickets_rows = []\n",
    "    for item in ManhattanWickets:\n",
    "        ManhattanWickets_rows.append(item)"
   ]
  },
  {
   "cell_type": "code",
   "execution_count": 37,
   "id": "e6c61e85",
   "metadata": {},
   "outputs": [
    {
     "data": {
      "text/html": [
       "<div>\n",
       "<style scoped>\n",
       "    .dataframe tbody tr th:only-of-type {\n",
       "        vertical-align: middle;\n",
       "    }\n",
       "\n",
       "    .dataframe tbody tr th {\n",
       "        vertical-align: top;\n",
       "    }\n",
       "\n",
       "    .dataframe thead th {\n",
       "        text-align: right;\n",
       "    }\n",
       "</style>\n",
       "<table border=\"1\" class=\"dataframe\">\n",
       "  <thead>\n",
       "    <tr style=\"text-align: right;\">\n",
       "      <th></th>\n",
       "      <th>InningsNo</th>\n",
       "      <th>OverNo</th>\n",
       "      <th>BattingTeamID</th>\n",
       "      <th>OutBatsman</th>\n",
       "      <th>OutDesc</th>\n",
       "      <th>BatsmanRuns</th>\n",
       "      <th>BatsmanBalls</th>\n",
       "    </tr>\n",
       "  </thead>\n",
       "  <tbody>\n",
       "    <tr>\n",
       "      <th>0</th>\n",
       "      <td>1</td>\n",
       "      <td>6</td>\n",
       "      <td>35</td>\n",
       "      <td>Shubman Gill</td>\n",
       "      <td>st MS Dhoni b Ravindra Jadeja</td>\n",
       "      <td>39</td>\n",
       "      <td>20</td>\n",
       "    </tr>\n",
       "    <tr>\n",
       "      <th>1</th>\n",
       "      <td>1</td>\n",
       "      <td>13</td>\n",
       "      <td>35</td>\n",
       "      <td>Wriddhiman Saha</td>\n",
       "      <td>c MS Dhoni b Deepak Chahar</td>\n",
       "      <td>54</td>\n",
       "      <td>39</td>\n",
       "    </tr>\n",
       "  </tbody>\n",
       "</table>\n",
       "</div>"
      ],
      "text/plain": [
       "   InningsNo  OverNo  BattingTeamID       OutBatsman   \n",
       "0          1       6             35     Shubman Gill  \\\n",
       "1          1      13             35  Wriddhiman Saha   \n",
       "\n",
       "                         OutDesc  BatsmanRuns  BatsmanBalls  \n",
       "0  st MS Dhoni b Ravindra Jadeja           39            20  \n",
       "1     c MS Dhoni b Deepak Chahar           54            39  "
      ]
     },
     "execution_count": 37,
     "metadata": {},
     "output_type": "execute_result"
    }
   ],
   "source": [
    "ManhattanWickets_df = pd.DataFrame(ManhattanWickets_rows)\n",
    "ManhattanWickets_df.head(2)"
   ]
  },
  {
   "cell_type": "code",
   "execution_count": 38,
   "id": "cf875cdc",
   "metadata": {},
   "outputs": [
    {
     "name": "stdout",
     "output_type": "stream",
     "text": [
      "exported to CSV\n"
     ]
    }
   ],
   "source": [
    "#ManhattanWickets_df.to_csv('2_ManhattanWickets.csv', index=False)\n",
    "print ('exported to CSV')"
   ]
  },
  {
   "cell_type": "markdown",
   "id": "ebdc4656",
   "metadata": {},
   "source": [
    "# OverHistory"
   ]
  },
  {
   "cell_type": "code",
   "execution_count": 9,
   "id": "d27f7780",
   "metadata": {},
   "outputs": [],
   "source": [
    "if \"OverHistory\" in data[\"Innings2\"]:\n",
    "    over_history = data[\"Innings2\"][\"OverHistory\"]\n",
    "\n",
    "    # Create a list of dictionaries representing rows\n",
    "    over_history_rows = []\n",
    "    for item in over_history:\n",
    "        over_history_rows.append(item)"
   ]
  },
  {
   "cell_type": "code",
   "execution_count": 39,
   "id": "a061b4c5",
   "metadata": {},
   "outputs": [
    {
     "data": {
      "text/html": [
       "<div>\n",
       "<style scoped>\n",
       "    .dataframe tbody tr th:only-of-type {\n",
       "        vertical-align: middle;\n",
       "    }\n",
       "\n",
       "    .dataframe tbody tr th {\n",
       "        vertical-align: top;\n",
       "    }\n",
       "\n",
       "    .dataframe thead th {\n",
       "        text-align: right;\n",
       "    }\n",
       "</style>\n",
       "<table border=\"1\" class=\"dataframe\">\n",
       "  <thead>\n",
       "    <tr style=\"text-align: right;\">\n",
       "      <th></th>\n",
       "      <th>BallID</th>\n",
       "      <th>BallUniqueID</th>\n",
       "      <th>ActualBallNo</th>\n",
       "      <th>MatchID</th>\n",
       "      <th>InningsNo</th>\n",
       "      <th>BattingTeamID</th>\n",
       "      <th>TeamName</th>\n",
       "      <th>StrikerID</th>\n",
       "      <th>NonStrikerID</th>\n",
       "      <th>BatsManName</th>\n",
       "      <th>...</th>\n",
       "      <th>BOWLING_LENGTH_ID</th>\n",
       "      <th>FiveHaul</th>\n",
       "      <th>HatCheck</th>\n",
       "      <th>Flag</th>\n",
       "      <th>FlagSet</th>\n",
       "      <th>PenaltyRuns</th>\n",
       "      <th>IsFifty</th>\n",
       "      <th>IsHundred</th>\n",
       "      <th>IsTwoHundred</th>\n",
       "      <th>IsHattrick</th>\n",
       "    </tr>\n",
       "  </thead>\n",
       "  <tbody>\n",
       "    <tr>\n",
       "      <th>0</th>\n",
       "      <td>596C02E1-048C-498E-A913-26B9D0DD2A60</td>\n",
       "      <td>327555</td>\n",
       "      <td>1</td>\n",
       "      <td>1046</td>\n",
       "      <td>2</td>\n",
       "      <td>13</td>\n",
       "      <td>Chennai Super Kings</td>\n",
       "      <td>2019-100mb00000000102-28e7fca043fc11</td>\n",
       "      <td>2021-100mb00000000601-517399b0ceaf11</td>\n",
       "      <td>Ruturaj Gaikwad</td>\n",
       "      <td>...</td>\n",
       "      <td>Good Length</td>\n",
       "      <td>1</td>\n",
       "      <td>2018-100mb00000000047-1bfc8ff2f88b11 - 0</td>\n",
       "      <td>0</td>\n",
       "      <td>0</td>\n",
       "      <td>0</td>\n",
       "      <td>0</td>\n",
       "      <td>0</td>\n",
       "      <td>0</td>\n",
       "      <td>0</td>\n",
       "    </tr>\n",
       "    <tr>\n",
       "      <th>1</th>\n",
       "      <td>A6FB20DE-0879-4774-BCC3-F8BB04FCD500</td>\n",
       "      <td>327556</td>\n",
       "      <td>2</td>\n",
       "      <td>1046</td>\n",
       "      <td>2</td>\n",
       "      <td>13</td>\n",
       "      <td>Chennai Super Kings</td>\n",
       "      <td>2019-100mb00000000102-28e7fca043fc11</td>\n",
       "      <td>2021-100mb00000000601-517399b0ceaf11</td>\n",
       "      <td>Ruturaj Gaikwad</td>\n",
       "      <td>...</td>\n",
       "      <td>Good Length</td>\n",
       "      <td>0</td>\n",
       "      <td>2018-100mb00000000047-1bfc8ff2f88b11 - 0</td>\n",
       "      <td>0</td>\n",
       "      <td>0</td>\n",
       "      <td>0</td>\n",
       "      <td>0</td>\n",
       "      <td>0</td>\n",
       "      <td>0</td>\n",
       "      <td>0</td>\n",
       "    </tr>\n",
       "  </tbody>\n",
       "</table>\n",
       "<p>2 rows × 73 columns</p>\n",
       "</div>"
      ],
      "text/plain": [
       "                                 BallID BallUniqueID ActualBallNo MatchID   \n",
       "0  596C02E1-048C-498E-A913-26B9D0DD2A60       327555            1    1046  \\\n",
       "1  A6FB20DE-0879-4774-BCC3-F8BB04FCD500       327556            2    1046   \n",
       "\n",
       "   InningsNo BattingTeamID             TeamName   \n",
       "0          2            13  Chennai Super Kings  \\\n",
       "1          2            13  Chennai Super Kings   \n",
       "\n",
       "                              StrikerID                          NonStrikerID   \n",
       "0  2019-100mb00000000102-28e7fca043fc11  2021-100mb00000000601-517399b0ceaf11  \\\n",
       "1  2019-100mb00000000102-28e7fca043fc11  2021-100mb00000000601-517399b0ceaf11   \n",
       "\n",
       "       BatsManName  ... BOWLING_LENGTH_ID FiveHaul   \n",
       "0  Ruturaj Gaikwad  ...       Good Length        1  \\\n",
       "1  Ruturaj Gaikwad  ...       Good Length        0   \n",
       "\n",
       "                                   HatCheck  Flag FlagSet PenaltyRuns IsFifty   \n",
       "0  2018-100mb00000000047-1bfc8ff2f88b11 - 0     0       0           0       0  \\\n",
       "1  2018-100mb00000000047-1bfc8ff2f88b11 - 0     0       0           0       0   \n",
       "\n",
       "  IsHundred IsTwoHundred IsHattrick  \n",
       "0         0            0          0  \n",
       "1         0            0          0  \n",
       "\n",
       "[2 rows x 73 columns]"
      ]
     },
     "execution_count": 39,
     "metadata": {},
     "output_type": "execute_result"
    }
   ],
   "source": [
    "over_history_df = pd.DataFrame(over_history_rows)\n",
    "over_history_df.head(2)"
   ]
  },
  {
   "cell_type": "code",
   "execution_count": 40,
   "id": "2a8c9c51",
   "metadata": {},
   "outputs": [
    {
     "name": "stdout",
     "output_type": "stream",
     "text": [
      "exported to CSV\n"
     ]
    }
   ],
   "source": [
    "#over_history_df.to_csv('2_over_history.csv', index=False)\n",
    "print ('exported to CSV')"
   ]
  },
  {
   "cell_type": "markdown",
   "id": "5e2ea63f",
   "metadata": {},
   "source": [
    "# PartnershipBreak"
   ]
  },
  {
   "cell_type": "code",
   "execution_count": 10,
   "id": "b5f70f50",
   "metadata": {},
   "outputs": [],
   "source": [
    "if \"PartnershipBreak\" in data[\"Innings2\"]:\n",
    "    PartnershipBreak = data[\"Innings2\"][\"PartnershipBreak\"]\n",
    "\n",
    "    # Create a list of dictionaries representing rows\n",
    "    PartnershipBreak_rows = []\n",
    "    for item in PartnershipBreak:\n",
    "        PartnershipBreak_rows.append(item)"
   ]
  },
  {
   "cell_type": "code",
   "execution_count": 41,
   "id": "3ad2e22f",
   "metadata": {},
   "outputs": [
    {
     "data": {
      "text/html": [
       "<div>\n",
       "<style scoped>\n",
       "    .dataframe tbody tr th:only-of-type {\n",
       "        vertical-align: middle;\n",
       "    }\n",
       "\n",
       "    .dataframe tbody tr th {\n",
       "        vertical-align: top;\n",
       "    }\n",
       "\n",
       "    .dataframe thead th {\n",
       "        text-align: right;\n",
       "    }\n",
       "</style>\n",
       "<table border=\"1\" class=\"dataframe\">\n",
       "  <thead>\n",
       "    <tr style=\"text-align: right;\">\n",
       "      <th></th>\n",
       "      <th>InningsNo</th>\n",
       "      <th>OverNo</th>\n",
       "      <th>WicketNo</th>\n",
       "      <th>WicketType</th>\n",
       "      <th>OutBatsmanID</th>\n",
       "    </tr>\n",
       "  </thead>\n",
       "  <tbody>\n",
       "    <tr>\n",
       "      <th>0</th>\n",
       "      <td>2</td>\n",
       "      <td>6.3</td>\n",
       "      <td>1</td>\n",
       "      <td>Caught</td>\n",
       "      <td>2019-100mb00000000102-28e7fca043fc11</td>\n",
       "    </tr>\n",
       "    <tr>\n",
       "      <th>1</th>\n",
       "      <td>2</td>\n",
       "      <td>6.6</td>\n",
       "      <td>2</td>\n",
       "      <td>Caught</td>\n",
       "      <td>2021-100mb00000000601-517399b0ceaf11</td>\n",
       "    </tr>\n",
       "  </tbody>\n",
       "</table>\n",
       "</div>"
      ],
      "text/plain": [
       "   InningsNo OverNo  WicketNo WicketType                          OutBatsmanID\n",
       "0          2    6.3         1     Caught  2019-100mb00000000102-28e7fca043fc11\n",
       "1          2    6.6         2     Caught  2021-100mb00000000601-517399b0ceaf11"
      ]
     },
     "execution_count": 41,
     "metadata": {},
     "output_type": "execute_result"
    }
   ],
   "source": [
    "PartnershipBreak_df = pd.DataFrame(PartnershipBreak_rows)\n",
    "PartnershipBreak_df.head(2)"
   ]
  },
  {
   "cell_type": "code",
   "execution_count": 42,
   "id": "dd332a9a",
   "metadata": {},
   "outputs": [
    {
     "name": "stdout",
     "output_type": "stream",
     "text": [
      "exported to CSV\n"
     ]
    }
   ],
   "source": [
    "#PartnershipBreak_df.to_csv('2_PartnershipBreak.csv', index=False)\n",
    "print ('exported to CSV')"
   ]
  },
  {
   "cell_type": "markdown",
   "id": "e5be9713",
   "metadata": {},
   "source": [
    "# PartnershipScores"
   ]
  },
  {
   "cell_type": "code",
   "execution_count": 11,
   "id": "9ca11524",
   "metadata": {},
   "outputs": [],
   "source": [
    "if \"PartnershipScores\" in data[\"Innings2\"]:\n",
    "    PartnershipScores = data[\"Innings2\"][\"PartnershipScores\"]\n",
    "\n",
    "    # Create a list of dictionaries representing rows\n",
    "    PartnershipScores_rows = []\n",
    "    for item in PartnershipScores:\n",
    "        PartnershipScores_rows.append(item)"
   ]
  },
  {
   "cell_type": "code",
   "execution_count": 43,
   "id": "90550050",
   "metadata": {},
   "outputs": [
    {
     "data": {
      "text/html": [
       "<div>\n",
       "<style scoped>\n",
       "    .dataframe tbody tr th:only-of-type {\n",
       "        vertical-align: middle;\n",
       "    }\n",
       "\n",
       "    .dataframe tbody tr th {\n",
       "        vertical-align: top;\n",
       "    }\n",
       "\n",
       "    .dataframe thead th {\n",
       "        text-align: right;\n",
       "    }\n",
       "</style>\n",
       "<table border=\"1\" class=\"dataframe\">\n",
       "  <thead>\n",
       "    <tr style=\"text-align: right;\">\n",
       "      <th></th>\n",
       "      <th>MatchID</th>\n",
       "      <th>BattingTeamID</th>\n",
       "      <th>InningsNo</th>\n",
       "      <th>StrikerID</th>\n",
       "      <th>Striker</th>\n",
       "      <th>NonStrikerID</th>\n",
       "      <th>PartnershipTotal</th>\n",
       "      <th>StrikerRuns</th>\n",
       "      <th>StrikerBalls</th>\n",
       "      <th>Extras</th>\n",
       "      <th>NonStrikerRuns</th>\n",
       "      <th>NonStrikerBalls</th>\n",
       "      <th>MatchMaxOver</th>\n",
       "      <th>MatchMinOver</th>\n",
       "      <th>NonStriker</th>\n",
       "      <th>@I := 0</th>\n",
       "      <th>RowNumber</th>\n",
       "    </tr>\n",
       "  </thead>\n",
       "  <tbody>\n",
       "    <tr>\n",
       "      <th>0</th>\n",
       "      <td>1046</td>\n",
       "      <td>13</td>\n",
       "      <td>2</td>\n",
       "      <td>2019-100mb00000000102-28e7fca043fc11</td>\n",
       "      <td>Ruturaj Gaikwad</td>\n",
       "      <td>2021-100mb00000000601-517399b0ceaf11</td>\n",
       "      <td>74</td>\n",
       "      <td>26</td>\n",
       "      <td>16</td>\n",
       "      <td>3</td>\n",
       "      <td>45</td>\n",
       "      <td>23</td>\n",
       "      <td>6.3</td>\n",
       "      <td>0.1</td>\n",
       "      <td>Devon Conway</td>\n",
       "      <td>0</td>\n",
       "      <td>1</td>\n",
       "    </tr>\n",
       "    <tr>\n",
       "      <th>1</th>\n",
       "      <td>1046</td>\n",
       "      <td>13</td>\n",
       "      <td>2</td>\n",
       "      <td>2021-100mb00000000601-517399b0ceaf11</td>\n",
       "      <td>Devon Conway</td>\n",
       "      <td>2019-100mb00000000102-28e7fca043fc11</td>\n",
       "      <td>74</td>\n",
       "      <td>45</td>\n",
       "      <td>23</td>\n",
       "      <td>3</td>\n",
       "      <td>26</td>\n",
       "      <td>16</td>\n",
       "      <td>6.3</td>\n",
       "      <td>0.1</td>\n",
       "      <td>Ruturaj Gaikwad</td>\n",
       "      <td>0</td>\n",
       "      <td>2</td>\n",
       "    </tr>\n",
       "  </tbody>\n",
       "</table>\n",
       "</div>"
      ],
      "text/plain": [
       "   MatchID  BattingTeamID  InningsNo                             StrikerID   \n",
       "0     1046             13          2  2019-100mb00000000102-28e7fca043fc11  \\\n",
       "1     1046             13          2  2021-100mb00000000601-517399b0ceaf11   \n",
       "\n",
       "           Striker                          NonStrikerID  PartnershipTotal   \n",
       "0  Ruturaj Gaikwad  2021-100mb00000000601-517399b0ceaf11                74  \\\n",
       "1     Devon Conway  2019-100mb00000000102-28e7fca043fc11                74   \n",
       "\n",
       "   StrikerRuns  StrikerBalls  Extras  NonStrikerRuns  NonStrikerBalls   \n",
       "0           26            16       3              45               23  \\\n",
       "1           45            23       3              26               16   \n",
       "\n",
       "   MatchMaxOver  MatchMinOver       NonStriker @I := 0  RowNumber  \n",
       "0           6.3           0.1     Devon Conway       0          1  \n",
       "1           6.3           0.1  Ruturaj Gaikwad       0          2  "
      ]
     },
     "execution_count": 43,
     "metadata": {},
     "output_type": "execute_result"
    }
   ],
   "source": [
    "PartnershipScores_df = pd.DataFrame(PartnershipScores_rows)\n",
    "PartnershipScores_df.head(2)"
   ]
  },
  {
   "cell_type": "code",
   "execution_count": 44,
   "id": "93de341f",
   "metadata": {},
   "outputs": [
    {
     "name": "stdout",
     "output_type": "stream",
     "text": [
      "exported to CSV\n"
     ]
    }
   ],
   "source": [
    "#PartnershipScores_df.to_csv('2_PartnershipScores.csv', index=False)\n",
    "print ('exported to CSV')"
   ]
  },
  {
   "cell_type": "markdown",
   "id": "0a513f2b",
   "metadata": {},
   "source": [
    "# WagonWheel"
   ]
  },
  {
   "cell_type": "code",
   "execution_count": 12,
   "id": "90af40d9",
   "metadata": {},
   "outputs": [],
   "source": [
    "if \"WagonWheel\" in data[\"Innings2\"]:\n",
    "    WagonWheel = data[\"Innings2\"][\"WagonWheel\"]\n",
    "\n",
    "    # Create a list of dictionaries representing rows\n",
    "    WagonWheel_rows = []\n",
    "    for item in WagonWheel:\n",
    "        WagonWheel_rows.append(item)"
   ]
  },
  {
   "cell_type": "code",
   "execution_count": 45,
   "id": "9b51a23e",
   "metadata": {},
   "outputs": [
    {
     "data": {
      "text/html": [
       "<div>\n",
       "<style scoped>\n",
       "    .dataframe tbody tr th:only-of-type {\n",
       "        vertical-align: middle;\n",
       "    }\n",
       "\n",
       "    .dataframe tbody tr th {\n",
       "        vertical-align: top;\n",
       "    }\n",
       "\n",
       "    .dataframe thead th {\n",
       "        text-align: right;\n",
       "    }\n",
       "</style>\n",
       "<table border=\"1\" class=\"dataframe\">\n",
       "  <thead>\n",
       "    <tr style=\"text-align: right;\">\n",
       "      <th></th>\n",
       "      <th>BallID</th>\n",
       "      <th>StrikerID</th>\n",
       "      <th>BowlerID</th>\n",
       "      <th>FielderAngle</th>\n",
       "      <th>FielderLengthRatio</th>\n",
       "      <th>Runs</th>\n",
       "      <th>IsFour</th>\n",
       "      <th>IsSix</th>\n",
       "      <th>BatType</th>\n",
       "    </tr>\n",
       "  </thead>\n",
       "  <tbody>\n",
       "    <tr>\n",
       "      <th>0</th>\n",
       "      <td>52C65746-34C6-44EC-962E-A2A0BCA8FB41</td>\n",
       "      <td>2019-100mb00000000102-28e7fca043fc11</td>\n",
       "      <td>2018-100mb00000000047-1bfc8ff2f88b11</td>\n",
       "      <td>187.1260</td>\n",
       "      <td>1.05</td>\n",
       "      <td>4</td>\n",
       "      <td>1</td>\n",
       "      <td>0</td>\n",
       "      <td>R</td>\n",
       "    </tr>\n",
       "    <tr>\n",
       "      <th>1</th>\n",
       "      <td>485E1A41-C524-427E-B430-C333D46AD7CA</td>\n",
       "      <td>2019-100mb00000000102-28e7fca043fc11</td>\n",
       "      <td>2018-100mb00000000047-1bfc8ff2f88b11</td>\n",
       "      <td>197.6006</td>\n",
       "      <td>0.88</td>\n",
       "      <td>2</td>\n",
       "      <td>0</td>\n",
       "      <td>0</td>\n",
       "      <td>R</td>\n",
       "    </tr>\n",
       "  </tbody>\n",
       "</table>\n",
       "</div>"
      ],
      "text/plain": [
       "                                 BallID                             StrikerID   \n",
       "0  52C65746-34C6-44EC-962E-A2A0BCA8FB41  2019-100mb00000000102-28e7fca043fc11  \\\n",
       "1  485E1A41-C524-427E-B430-C333D46AD7CA  2019-100mb00000000102-28e7fca043fc11   \n",
       "\n",
       "                               BowlerID  FielderAngle  FielderLengthRatio   \n",
       "0  2018-100mb00000000047-1bfc8ff2f88b11      187.1260                1.05  \\\n",
       "1  2018-100mb00000000047-1bfc8ff2f88b11      197.6006                0.88   \n",
       "\n",
       "   Runs  IsFour  IsSix BatType  \n",
       "0     4       1      0       R  \n",
       "1     2       0      0       R  "
      ]
     },
     "execution_count": 45,
     "metadata": {},
     "output_type": "execute_result"
    }
   ],
   "source": [
    "WagonWheel_df = pd.DataFrame(WagonWheel_rows)\n",
    "WagonWheel_df.head(2)"
   ]
  },
  {
   "cell_type": "code",
   "execution_count": 46,
   "id": "968f34f5",
   "metadata": {},
   "outputs": [
    {
     "name": "stdout",
     "output_type": "stream",
     "text": [
      "exported to CSV\n"
     ]
    }
   ],
   "source": [
    "#WagonWheel_df.to_csv('2_WagonWheel.csv', index=False)\n",
    "print ('exported to CSV')"
   ]
  },
  {
   "cell_type": "code",
   "execution_count": null,
   "id": "89febf04",
   "metadata": {},
   "outputs": [],
   "source": []
  }
 ],
 "metadata": {
  "kernelspec": {
   "display_name": "Python 3 (ipykernel)",
   "language": "python",
   "name": "python3"
  },
  "language_info": {
   "codemirror_mode": {
    "name": "ipython",
    "version": 3
   },
   "file_extension": ".py",
   "mimetype": "text/x-python",
   "name": "python",
   "nbconvert_exporter": "python",
   "pygments_lexer": "ipython3",
   "version": "3.11.2"
  }
 },
 "nbformat": 4,
 "nbformat_minor": 5
}
