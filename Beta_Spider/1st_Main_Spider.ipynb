{
 "cells": [
  {
   "cell_type": "markdown",
   "id": "4b80af1e",
   "metadata": {},
   "source": [
    "# Main Script"
   ]
  },
  {
   "cell_type": "code",
   "execution_count": 13,
   "id": "ebac88a9",
   "metadata": {},
   "outputs": [
    {
     "name": "stdout",
     "output_type": "stream",
     "text": [
      "BattingCard\n",
      "Extras\n",
      "FallOfWickets\n",
      "WagonWheel\n",
      "PartnershipScores\n",
      "PartnershipBreak\n",
      "BowlingCard\n",
      "ManhattanGraph\n",
      "ManhattanWickets\n",
      "OverHistory\n",
      "WagonWheelSummary\n",
      "battingheadtohead\n",
      "bowlingheadtohead\n"
     ]
    }
   ],
   "source": [
    "import requests\n",
    "import json\n",
    "import re\n",
    "import pandas as pd\n",
    "\n",
    "test_url = 'https://ipl-stats-sports-mechanic.s3.ap-south-1.amazonaws.com/ipl/feeds/1046-Innings1.js'\n",
    "\n",
    "response = requests.get(url=test_url)\n",
    "\n",
    "# Assuming the response text is stored in a variable called 'response'\n",
    "start_index = response.text.find('(') + 1\n",
    "end_index = response.text.rfind(')')\n",
    "\n",
    "json_data = response.text[start_index:end_index]\n",
    "data = json.loads(json_data)\n",
    "\n",
    "innings1_keys = data[\"Innings1\"].keys()\n",
    "\n",
    "if innings1_keys:\n",
    "    # The \"Innings2\" object exists in the JSON data\n",
    "    # You can use the retrieved keys or perform further operations\n",
    "    for key in innings1_keys:\n",
    "        print(key)\n",
    "else:\n",
    "    # The \"Innings2\" object was not found in the JSON data\n",
    "    # Handle the case accordingly\n",
    "    print(\"Innings1 not found.\")"
   ]
  },
  {
   "cell_type": "markdown",
   "id": "4920e6a5",
   "metadata": {},
   "source": [
    "# Batting Head to Head Data"
   ]
  },
  {
   "cell_type": "code",
   "execution_count": 2,
   "id": "91df4a5c",
   "metadata": {},
   "outputs": [],
   "source": [
    "if \"battingheadtohead\" in data[\"Innings1\"]:\n",
    "    battingheadtohead = data[\"Innings1\"][\"battingheadtohead\"]\n",
    "\n",
    "    # Create a list of dictionaries representing rows\n",
    "    battingheadtohead_rows = []\n",
    "    for item in battingheadtohead:\n",
    "        battingheadtohead_rows.append(item)"
   ]
  },
  {
   "cell_type": "code",
   "execution_count": 14,
   "id": "ec41e78a",
   "metadata": {},
   "outputs": [
    {
     "data": {
      "text/html": [
       "<div>\n",
       "<style scoped>\n",
       "    .dataframe tbody tr th:only-of-type {\n",
       "        vertical-align: middle;\n",
       "    }\n",
       "\n",
       "    .dataframe tbody tr th {\n",
       "        vertical-align: top;\n",
       "    }\n",
       "\n",
       "    .dataframe thead th {\n",
       "        text-align: right;\n",
       "    }\n",
       "</style>\n",
       "<table border=\"1\" class=\"dataframe\">\n",
       "  <thead>\n",
       "    <tr style=\"text-align: right;\">\n",
       "      <th></th>\n",
       "      <th>KPI</th>\n",
       "      <th>BatsManID</th>\n",
       "      <th>BowlerID</th>\n",
       "      <th>BatsManName</th>\n",
       "      <th>BowlerName</th>\n",
       "      <th>Runs</th>\n",
       "      <th>RunsThroughExtras</th>\n",
       "      <th>TotalRuns</th>\n",
       "      <th>BallsFaced</th>\n",
       "      <th>StrikeRate</th>\n",
       "      <th>...</th>\n",
       "      <th>ScoringBalls</th>\n",
       "      <th>Ones</th>\n",
       "      <th>Twos</th>\n",
       "      <th>Threes</th>\n",
       "      <th>Fours</th>\n",
       "      <th>Sixes</th>\n",
       "      <th>BdryFreq</th>\n",
       "      <th>BdryPercent</th>\n",
       "      <th>WicketLost</th>\n",
       "      <th>RPSS</th>\n",
       "    </tr>\n",
       "  </thead>\n",
       "  <tbody>\n",
       "    <tr>\n",
       "      <th>0</th>\n",
       "      <td>Head To Head</td>\n",
       "      <td>2018-100mb00000000054-e3ebefa2050a11</td>\n",
       "      <td>2020-100mb00000000539-04833b65639b11</td>\n",
       "      <td>Hardik Pandya</td>\n",
       "      <td>Tushar Deshpande</td>\n",
       "      <td>14</td>\n",
       "      <td>0</td>\n",
       "      <td>14</td>\n",
       "      <td>5</td>\n",
       "      <td>280.00</td>\n",
       "      <td>...</td>\n",
       "      <td>4</td>\n",
       "      <td>2</td>\n",
       "      <td>0</td>\n",
       "      <td>0</td>\n",
       "      <td>0</td>\n",
       "      <td>2</td>\n",
       "      <td>2.50</td>\n",
       "      <td>85.71</td>\n",
       "      <td>0</td>\n",
       "      <td>3.50</td>\n",
       "    </tr>\n",
       "    <tr>\n",
       "      <th>1</th>\n",
       "      <td>Head To Head</td>\n",
       "      <td>2018-100mb00000000054-e3ebefa2050a11</td>\n",
       "      <td>2022-100mb00000001014-1f0cfb3dc17911</td>\n",
       "      <td>Hardik Pandya</td>\n",
       "      <td>Matheesha Pathirana</td>\n",
       "      <td>7</td>\n",
       "      <td>1</td>\n",
       "      <td>8</td>\n",
       "      <td>7</td>\n",
       "      <td>114.29</td>\n",
       "      <td>...</td>\n",
       "      <td>5</td>\n",
       "      <td>3</td>\n",
       "      <td>2</td>\n",
       "      <td>0</td>\n",
       "      <td>0</td>\n",
       "      <td>0</td>\n",
       "      <td>0.00</td>\n",
       "      <td>0.00</td>\n",
       "      <td>0</td>\n",
       "      <td>1.60</td>\n",
       "    </tr>\n",
       "  </tbody>\n",
       "</table>\n",
       "<p>2 rows × 23 columns</p>\n",
       "</div>"
      ],
      "text/plain": [
       "            KPI                             BatsManID   \n",
       "0  Head To Head  2018-100mb00000000054-e3ebefa2050a11  \\\n",
       "1  Head To Head  2018-100mb00000000054-e3ebefa2050a11   \n",
       "\n",
       "                               BowlerID    BatsManName           BowlerName   \n",
       "0  2020-100mb00000000539-04833b65639b11  Hardik Pandya     Tushar Deshpande  \\\n",
       "1  2022-100mb00000001014-1f0cfb3dc17911  Hardik Pandya  Matheesha Pathirana   \n",
       "\n",
       "  Runs RunsThroughExtras TotalRuns BallsFaced StrikeRate  ... ScoringBalls   \n",
       "0   14                 0        14          5     280.00  ...            4  \\\n",
       "1    7                 1         8          7     114.29  ...            5   \n",
       "\n",
       "  Ones Twos Threes Fours Sixes BdryFreq BdryPercent WicketLost  RPSS  \n",
       "0    2    0      0     0     2     2.50       85.71          0  3.50  \n",
       "1    3    2      0     0     0     0.00        0.00          0  1.60  \n",
       "\n",
       "[2 rows x 23 columns]"
      ]
     },
     "execution_count": 14,
     "metadata": {},
     "output_type": "execute_result"
    }
   ],
   "source": [
    "battingheadtohead_df=pd.DataFrame(battingheadtohead_rows)\n",
    "battingheadtohead_df.head(2)"
   ]
  },
  {
   "cell_type": "code",
   "execution_count": 15,
   "id": "bc7259a9",
   "metadata": {},
   "outputs": [
    {
     "name": "stdout",
     "output_type": "stream",
     "text": [
      "exported to CSV\n"
     ]
    }
   ],
   "source": [
    "#battingheadtohead_df.to_csv('1_battingheadtohead.csv', index=False)\n",
    "print ('exported to CSV')"
   ]
  },
  {
   "cell_type": "markdown",
   "id": "c33ae80d",
   "metadata": {},
   "source": [
    "# BowlingCard"
   ]
  },
  {
   "cell_type": "code",
   "execution_count": 3,
   "id": "d3d5e70e",
   "metadata": {},
   "outputs": [],
   "source": [
    "if \"BowlingCard\" in data[\"Innings1\"]:\n",
    "    BowlingCard = data[\"Innings1\"][\"BowlingCard\"]\n",
    "\n",
    "    # Create a list of dictionaries representing rows\n",
    "    BowlingCard_rows = []\n",
    "    for item in BowlingCard:\n",
    "        BowlingCard_rows.append(item)"
   ]
  },
  {
   "cell_type": "code",
   "execution_count": 16,
   "id": "5602a5dd",
   "metadata": {},
   "outputs": [
    {
     "data": {
      "text/html": [
       "<div>\n",
       "<style scoped>\n",
       "    .dataframe tbody tr th:only-of-type {\n",
       "        vertical-align: middle;\n",
       "    }\n",
       "\n",
       "    .dataframe tbody tr th {\n",
       "        vertical-align: top;\n",
       "    }\n",
       "\n",
       "    .dataframe thead th {\n",
       "        text-align: right;\n",
       "    }\n",
       "</style>\n",
       "<table border=\"1\" class=\"dataframe\">\n",
       "  <thead>\n",
       "    <tr style=\"text-align: right;\">\n",
       "      <th></th>\n",
       "      <th>MatchID</th>\n",
       "      <th>InningsNo</th>\n",
       "      <th>TeamID</th>\n",
       "      <th>PlayerID</th>\n",
       "      <th>PlayerName</th>\n",
       "      <th>PlayerShortName</th>\n",
       "      <th>PlayerImageName</th>\n",
       "      <th>PlayerImage</th>\n",
       "      <th>Overs</th>\n",
       "      <th>Maidens</th>\n",
       "      <th>...</th>\n",
       "      <th>Ones</th>\n",
       "      <th>Twos</th>\n",
       "      <th>Threes</th>\n",
       "      <th>Fours</th>\n",
       "      <th>Sixes</th>\n",
       "      <th>BdryPercent</th>\n",
       "      <th>BdryFreq</th>\n",
       "      <th>StrikeRate</th>\n",
       "      <th>FourPercent</th>\n",
       "      <th>SixPercent</th>\n",
       "    </tr>\n",
       "  </thead>\n",
       "  <tbody>\n",
       "    <tr>\n",
       "      <th>0</th>\n",
       "      <td>1046</td>\n",
       "      <td>1</td>\n",
       "      <td>13</td>\n",
       "      <td>2019-100mb00000000091-8640595343ec11</td>\n",
       "      <td>Deepak Chahar</td>\n",
       "      <td>Deepak Chahar</td>\n",
       "      <td>https://scores.iplt20.com/ipl/playerimages/m22...</td>\n",
       "      <td>https://scores.iplt20.com/ipl/playerimages/m22...</td>\n",
       "      <td>4</td>\n",
       "      <td>0</td>\n",
       "      <td>...</td>\n",
       "      <td>10</td>\n",
       "      <td>5</td>\n",
       "      <td>0</td>\n",
       "      <td>3</td>\n",
       "      <td>1</td>\n",
       "      <td>47.37</td>\n",
       "      <td>6.00</td>\n",
       "      <td>24.00</td>\n",
       "      <td>31.58</td>\n",
       "      <td>15.79</td>\n",
       "    </tr>\n",
       "    <tr>\n",
       "      <th>1</th>\n",
       "      <td>1046</td>\n",
       "      <td>1</td>\n",
       "      <td>13</td>\n",
       "      <td>2020-100mb00000000539-04833b65639b11</td>\n",
       "      <td>Tushar Deshpande</td>\n",
       "      <td>Tushar Deshpande</td>\n",
       "      <td>https://scores.iplt20.com/ipl/playerimages/Fnv...</td>\n",
       "      <td>https://scores.iplt20.com/ipl/playerimages/Fnv...</td>\n",
       "      <td>4</td>\n",
       "      <td>0</td>\n",
       "      <td>...</td>\n",
       "      <td>10</td>\n",
       "      <td>0</td>\n",
       "      <td>0</td>\n",
       "      <td>7</td>\n",
       "      <td>3</td>\n",
       "      <td>82.14</td>\n",
       "      <td>2.40</td>\n",
       "      <td>0</td>\n",
       "      <td>50.00</td>\n",
       "      <td>32.14</td>\n",
       "    </tr>\n",
       "  </tbody>\n",
       "</table>\n",
       "<p>2 rows × 31 columns</p>\n",
       "</div>"
      ],
      "text/plain": [
       "   MatchID  InningsNo  TeamID                              PlayerID   \n",
       "0     1046          1      13  2019-100mb00000000091-8640595343ec11  \\\n",
       "1     1046          1      13  2020-100mb00000000539-04833b65639b11   \n",
       "\n",
       "         PlayerName   PlayerShortName   \n",
       "0     Deepak Chahar     Deepak Chahar  \\\n",
       "1  Tushar Deshpande  Tushar Deshpande   \n",
       "\n",
       "                                     PlayerImageName   \n",
       "0  https://scores.iplt20.com/ipl/playerimages/m22...  \\\n",
       "1  https://scores.iplt20.com/ipl/playerimages/Fnv...   \n",
       "\n",
       "                                         PlayerImage  Overs  Maidens  ...   \n",
       "0  https://scores.iplt20.com/ipl/playerimages/m22...      4        0  ...  \\\n",
       "1  https://scores.iplt20.com/ipl/playerimages/Fnv...      4        0  ...   \n",
       "\n",
       "   Ones  Twos  Threes  Fours  Sixes  BdryPercent  BdryFreq  StrikeRate   \n",
       "0    10     5       0      3      1        47.37      6.00       24.00  \\\n",
       "1    10     0       0      7      3        82.14      2.40           0   \n",
       "\n",
       "   FourPercent SixPercent  \n",
       "0        31.58      15.79  \n",
       "1        50.00      32.14  \n",
       "\n",
       "[2 rows x 31 columns]"
      ]
     },
     "execution_count": 16,
     "metadata": {},
     "output_type": "execute_result"
    }
   ],
   "source": [
    "BowlingCard_df = pd.DataFrame(BowlingCard_rows)\n",
    "BowlingCard_df.head(2)"
   ]
  },
  {
   "cell_type": "code",
   "execution_count": 17,
   "id": "3c400463",
   "metadata": {},
   "outputs": [
    {
     "name": "stdout",
     "output_type": "stream",
     "text": [
      "exported to CSV\n"
     ]
    }
   ],
   "source": [
    "#BowlingCard_df.to_csv('1_BowlingCard.csv', index=False)\n",
    "print ('exported to CSV')"
   ]
  },
  {
   "cell_type": "markdown",
   "id": "39f59bbb",
   "metadata": {},
   "source": [
    "\n",
    "# bowlingheadtohead"
   ]
  },
  {
   "cell_type": "code",
   "execution_count": 4,
   "id": "1895709c",
   "metadata": {},
   "outputs": [],
   "source": [
    "if \"bowlingheadtohead\" in data[\"Innings1\"]:\n",
    "    bowlingheadtohead = data[\"Innings1\"][\"bowlingheadtohead\"]\n",
    "\n",
    "    # Create a list of dictionaries representing rows\n",
    "    bowlingheadtohead_rows = []\n",
    "    for item in bowlingheadtohead:\n",
    "        bowlingheadtohead_rows.append(item)"
   ]
  },
  {
   "cell_type": "code",
   "execution_count": 18,
   "id": "44413851",
   "metadata": {},
   "outputs": [
    {
     "data": {
      "text/html": [
       "<div>\n",
       "<style scoped>\n",
       "    .dataframe tbody tr th:only-of-type {\n",
       "        vertical-align: middle;\n",
       "    }\n",
       "\n",
       "    .dataframe tbody tr th {\n",
       "        vertical-align: top;\n",
       "    }\n",
       "\n",
       "    .dataframe thead th {\n",
       "        text-align: right;\n",
       "    }\n",
       "</style>\n",
       "<table border=\"1\" class=\"dataframe\">\n",
       "  <thead>\n",
       "    <tr style=\"text-align: right;\">\n",
       "      <th></th>\n",
       "      <th>KPI</th>\n",
       "      <th>MatchID</th>\n",
       "      <th>BowlerID</th>\n",
       "      <th>BowlerName</th>\n",
       "      <th>StrikerID</th>\n",
       "      <th>BatsManName</th>\n",
       "      <th>TotalRunsConceded</th>\n",
       "      <th>BowlingAverage</th>\n",
       "      <th>TotalLegalBallsBowled</th>\n",
       "      <th>BowlingSR</th>\n",
       "      <th>...</th>\n",
       "      <th>Wides</th>\n",
       "      <th>NoBalls</th>\n",
       "      <th>Wickets</th>\n",
       "      <th>RunOutsDone</th>\n",
       "      <th>BowledOutsDone</th>\n",
       "      <th>StumpingsDone</th>\n",
       "      <th>BowlingDotBallPercentage</th>\n",
       "      <th>BowlingDotBallFrequency</th>\n",
       "      <th>BowlingBdryPercentage</th>\n",
       "      <th>BowlingBdryFrequency</th>\n",
       "    </tr>\n",
       "  </thead>\n",
       "  <tbody>\n",
       "    <tr>\n",
       "      <th>0</th>\n",
       "      <td>Head To Head</td>\n",
       "      <td>1046</td>\n",
       "      <td>2018-100mb00000000046-06b5ba89f88b11</td>\n",
       "      <td>Ravindra Jadeja</td>\n",
       "      <td>2019-100mb00000000062-8fa4884a17f311</td>\n",
       "      <td>Shubman Gill</td>\n",
       "      <td>3</td>\n",
       "      <td>3.00</td>\n",
       "      <td>3</td>\n",
       "      <td>3.00</td>\n",
       "      <td>...</td>\n",
       "      <td>0</td>\n",
       "      <td>0</td>\n",
       "      <td>1</td>\n",
       "      <td>0</td>\n",
       "      <td>0</td>\n",
       "      <td>1</td>\n",
       "      <td>33.33</td>\n",
       "      <td>3.00</td>\n",
       "      <td>0.00</td>\n",
       "      <td>0.00</td>\n",
       "    </tr>\n",
       "    <tr>\n",
       "      <th>1</th>\n",
       "      <td>Head To Head</td>\n",
       "      <td>1046</td>\n",
       "      <td>2018-100mb00000000046-06b5ba89f88b11</td>\n",
       "      <td>Ravindra Jadeja</td>\n",
       "      <td>2019-100mb00000000225-a11ad1bc44c011</td>\n",
       "      <td>Wriddhiman Saha</td>\n",
       "      <td>19</td>\n",
       "      <td>0.00</td>\n",
       "      <td>11</td>\n",
       "      <td>0.00</td>\n",
       "      <td>...</td>\n",
       "      <td>0</td>\n",
       "      <td>0</td>\n",
       "      <td>0</td>\n",
       "      <td>0</td>\n",
       "      <td>0</td>\n",
       "      <td>0</td>\n",
       "      <td>9.09</td>\n",
       "      <td>11.00</td>\n",
       "      <td>63.16</td>\n",
       "      <td>3.67</td>\n",
       "    </tr>\n",
       "  </tbody>\n",
       "</table>\n",
       "<p>2 rows × 28 columns</p>\n",
       "</div>"
      ],
      "text/plain": [
       "            KPI MatchID                              BowlerID   \n",
       "0  Head To Head    1046  2018-100mb00000000046-06b5ba89f88b11  \\\n",
       "1  Head To Head    1046  2018-100mb00000000046-06b5ba89f88b11   \n",
       "\n",
       "        BowlerName                             StrikerID      BatsManName   \n",
       "0  Ravindra Jadeja  2019-100mb00000000062-8fa4884a17f311     Shubman Gill  \\\n",
       "1  Ravindra Jadeja  2019-100mb00000000225-a11ad1bc44c011  Wriddhiman Saha   \n",
       "\n",
       "  TotalRunsConceded BowlingAverage TotalLegalBallsBowled BowlingSR  ... Wides   \n",
       "0                 3           3.00                     3      3.00  ...     0  \\\n",
       "1                19           0.00                    11      0.00  ...     0   \n",
       "\n",
       "  NoBalls Wickets RunOutsDone BowledOutsDone StumpingsDone   \n",
       "0       0       1           0              0             1  \\\n",
       "1       0       0           0              0             0   \n",
       "\n",
       "  BowlingDotBallPercentage BowlingDotBallFrequency BowlingBdryPercentage   \n",
       "0                    33.33                    3.00                  0.00  \\\n",
       "1                     9.09                   11.00                 63.16   \n",
       "\n",
       "  BowlingBdryFrequency  \n",
       "0                 0.00  \n",
       "1                 3.67  \n",
       "\n",
       "[2 rows x 28 columns]"
      ]
     },
     "execution_count": 18,
     "metadata": {},
     "output_type": "execute_result"
    }
   ],
   "source": [
    "bowlingheadtohead_df = pd.DataFrame(bowlingheadtohead_rows)\n",
    "bowlingheadtohead_df.head(2)"
   ]
  },
  {
   "cell_type": "code",
   "execution_count": 19,
   "id": "579ca3d8",
   "metadata": {},
   "outputs": [
    {
     "name": "stdout",
     "output_type": "stream",
     "text": [
      "exported to CSV\n"
     ]
    }
   ],
   "source": [
    "#bowlingheadtohead_df.to_csv('1_bowlingheadtohead.csv', index=False)\n",
    "print ('exported to CSV')"
   ]
  },
  {
   "cell_type": "markdown",
   "id": "6293e187",
   "metadata": {},
   "source": [
    "# Extras"
   ]
  },
  {
   "cell_type": "code",
   "execution_count": 5,
   "id": "82020408",
   "metadata": {},
   "outputs": [],
   "source": [
    "if \"Extras\" in data[\"Innings1\"]:\n",
    "    Extras = data[\"Innings1\"][\"Extras\"]\n",
    "\n",
    "    # Create a list of dictionaries representing rows\n",
    "    Extras_rows = []\n",
    "    for item in Extras:\n",
    "        Extras_rows.append(item)"
   ]
  },
  {
   "cell_type": "code",
   "execution_count": 20,
   "id": "797d2a04",
   "metadata": {},
   "outputs": [
    {
     "data": {
      "text/html": [
       "<div>\n",
       "<style scoped>\n",
       "    .dataframe tbody tr th:only-of-type {\n",
       "        vertical-align: middle;\n",
       "    }\n",
       "\n",
       "    .dataframe tbody tr th {\n",
       "        vertical-align: top;\n",
       "    }\n",
       "\n",
       "    .dataframe thead th {\n",
       "        text-align: right;\n",
       "    }\n",
       "</style>\n",
       "<table border=\"1\" class=\"dataframe\">\n",
       "  <thead>\n",
       "    <tr style=\"text-align: right;\">\n",
       "      <th></th>\n",
       "      <th>MatchID</th>\n",
       "      <th>InningsNo</th>\n",
       "      <th>TeamID</th>\n",
       "      <th>Total</th>\n",
       "      <th>TotalExtras</th>\n",
       "      <th>Byes</th>\n",
       "      <th>LegByes</th>\n",
       "      <th>NoBalls</th>\n",
       "      <th>Wides</th>\n",
       "      <th>Penalty</th>\n",
       "      <th>CurrentRunRate</th>\n",
       "      <th>FallScore</th>\n",
       "      <th>FallWickets</th>\n",
       "      <th>FallOvers</th>\n",
       "      <th>BattingTeamName</th>\n",
       "      <th>BowlingTeamName</th>\n",
       "      <th>MaxPartnerShipRuns</th>\n",
       "    </tr>\n",
       "  </thead>\n",
       "  <tbody>\n",
       "    <tr>\n",
       "      <th>0</th>\n",
       "      <td>1046</td>\n",
       "      <td>1</td>\n",
       "      <td>35</td>\n",
       "      <td>214/4 (20.0 Overs)</td>\n",
       "      <td>4</td>\n",
       "      <td>1</td>\n",
       "      <td>1</td>\n",
       "      <td>0</td>\n",
       "      <td>2</td>\n",
       "      <td></td>\n",
       "      <td>10.7</td>\n",
       "      <td>214</td>\n",
       "      <td>4</td>\n",
       "      <td>20.0</td>\n",
       "      <td>Gujarat Titans</td>\n",
       "      <td>Chennai Super Kings</td>\n",
       "      <td>81</td>\n",
       "    </tr>\n",
       "  </tbody>\n",
       "</table>\n",
       "</div>"
      ],
      "text/plain": [
       "  MatchID  InningsNo TeamID               Total TotalExtras Byes LegByes   \n",
       "0    1046          1     35  214/4 (20.0 Overs)           4    1       1  \\\n",
       "\n",
       "  NoBalls Wides Penalty CurrentRunRate FallScore FallWickets FallOvers   \n",
       "0       0     2                   10.7       214           4      20.0  \\\n",
       "\n",
       "  BattingTeamName      BowlingTeamName  MaxPartnerShipRuns  \n",
       "0  Gujarat Titans  Chennai Super Kings                  81  "
      ]
     },
     "execution_count": 20,
     "metadata": {},
     "output_type": "execute_result"
    }
   ],
   "source": [
    "Extras_df = pd.DataFrame(Extras_rows)\n",
    "Extras_df.head(2)"
   ]
  },
  {
   "cell_type": "code",
   "execution_count": 21,
   "id": "29ed8ccd",
   "metadata": {},
   "outputs": [
    {
     "name": "stdout",
     "output_type": "stream",
     "text": [
      "exported to CSV\n"
     ]
    }
   ],
   "source": [
    "#Extras_df.to_csv('1_Extras_df.csv', index=False)\n",
    "print ('exported to CSV')"
   ]
  },
  {
   "cell_type": "markdown",
   "id": "c57f8917",
   "metadata": {},
   "source": [
    "# FallOfWickets"
   ]
  },
  {
   "cell_type": "code",
   "execution_count": 6,
   "id": "ae352266",
   "metadata": {},
   "outputs": [],
   "source": [
    "if \"FallOfWickets\" in data[\"Innings1\"]:\n",
    "    FallOfWickets = data[\"Innings1\"][\"FallOfWickets\"]\n",
    "\n",
    "    # Create a list of dictionaries representing rows\n",
    "    FallOfWickets_rows = []\n",
    "    for item in FallOfWickets:\n",
    "        FallOfWickets_rows.append(item)"
   ]
  },
  {
   "cell_type": "code",
   "execution_count": 22,
   "id": "660a7b8c",
   "metadata": {},
   "outputs": [
    {
     "data": {
      "text/html": [
       "<div>\n",
       "<style scoped>\n",
       "    .dataframe tbody tr th:only-of-type {\n",
       "        vertical-align: middle;\n",
       "    }\n",
       "\n",
       "    .dataframe tbody tr th {\n",
       "        vertical-align: top;\n",
       "    }\n",
       "\n",
       "    .dataframe thead th {\n",
       "        text-align: right;\n",
       "    }\n",
       "</style>\n",
       "<table border=\"1\" class=\"dataframe\">\n",
       "  <thead>\n",
       "    <tr style=\"text-align: right;\">\n",
       "      <th></th>\n",
       "      <th>MatchID</th>\n",
       "      <th>InningsNo</th>\n",
       "      <th>TeamID</th>\n",
       "      <th>PlayerID</th>\n",
       "      <th>PlayerName</th>\n",
       "      <th>Score</th>\n",
       "      <th>FallScore</th>\n",
       "      <th>FallWickets</th>\n",
       "      <th>FallOvers</th>\n",
       "    </tr>\n",
       "  </thead>\n",
       "  <tbody>\n",
       "    <tr>\n",
       "      <th>0</th>\n",
       "      <td>1046</td>\n",
       "      <td>1</td>\n",
       "      <td>35</td>\n",
       "      <td>2019-100mb00000000062-8fa4884a17f311</td>\n",
       "      <td>Shubman Gill</td>\n",
       "      <td>67/1(6.6)</td>\n",
       "      <td>67</td>\n",
       "      <td>1</td>\n",
       "      <td>6.6</td>\n",
       "    </tr>\n",
       "    <tr>\n",
       "      <th>1</th>\n",
       "      <td>1046</td>\n",
       "      <td>1</td>\n",
       "      <td>35</td>\n",
       "      <td>2019-100mb00000000225-a11ad1bc44c011</td>\n",
       "      <td>Wriddhiman Saha</td>\n",
       "      <td>131/2(13.6)</td>\n",
       "      <td>131</td>\n",
       "      <td>2</td>\n",
       "      <td>13.6</td>\n",
       "    </tr>\n",
       "  </tbody>\n",
       "</table>\n",
       "</div>"
      ],
      "text/plain": [
       "  MatchID  InningsNo TeamID                              PlayerID   \n",
       "0    1046          1     35  2019-100mb00000000062-8fa4884a17f311  \\\n",
       "1    1046          1     35  2019-100mb00000000225-a11ad1bc44c011   \n",
       "\n",
       "        PlayerName        Score FallScore  FallWickets FallOvers  \n",
       "0     Shubman Gill    67/1(6.6)        67            1       6.6  \n",
       "1  Wriddhiman Saha  131/2(13.6)       131            2      13.6  "
      ]
     },
     "execution_count": 22,
     "metadata": {},
     "output_type": "execute_result"
    }
   ],
   "source": [
    "FallOfWickets_df = pd.DataFrame(FallOfWickets_rows)\n",
    "FallOfWickets_df.head(2)"
   ]
  },
  {
   "cell_type": "code",
   "execution_count": 23,
   "id": "05ccc6b8",
   "metadata": {},
   "outputs": [
    {
     "name": "stdout",
     "output_type": "stream",
     "text": [
      "exported to CSV\n"
     ]
    }
   ],
   "source": [
    "#FallOfWickets_df.to_csv('1_FallOfWickets.csv', index=False)\n",
    "print ('exported to CSV')"
   ]
  },
  {
   "cell_type": "markdown",
   "id": "6513b2d0",
   "metadata": {},
   "source": [
    "# ManhattanGraph"
   ]
  },
  {
   "cell_type": "code",
   "execution_count": 7,
   "id": "a2ad2e77",
   "metadata": {},
   "outputs": [],
   "source": [
    "if \"ManhattanGraph\" in data[\"Innings1\"]:\n",
    "    ManhattanGraph = data[\"Innings1\"][\"ManhattanGraph\"]\n",
    "\n",
    "    # Create a list of dictionaries representing rows\n",
    "    ManhattanGraph_rows = []\n",
    "    for item in ManhattanGraph:\n",
    "        ManhattanGraph_rows.append(item)"
   ]
  },
  {
   "cell_type": "code",
   "execution_count": 25,
   "id": "8fda90c3",
   "metadata": {},
   "outputs": [
    {
     "data": {
      "text/html": [
       "<div>\n",
       "<style scoped>\n",
       "    .dataframe tbody tr th:only-of-type {\n",
       "        vertical-align: middle;\n",
       "    }\n",
       "\n",
       "    .dataframe tbody tr th {\n",
       "        vertical-align: top;\n",
       "    }\n",
       "\n",
       "    .dataframe thead th {\n",
       "        text-align: right;\n",
       "    }\n",
       "</style>\n",
       "<table border=\"1\" class=\"dataframe\">\n",
       "  <thead>\n",
       "    <tr style=\"text-align: right;\">\n",
       "      <th></th>\n",
       "      <th>InningsNo</th>\n",
       "      <th>OverNo</th>\n",
       "      <th>BattingTeamID</th>\n",
       "      <th>OverRuns</th>\n",
       "      <th>BowlerRuns</th>\n",
       "      <th>BowlerID</th>\n",
       "      <th>Wickets</th>\n",
       "      <th>Bowler</th>\n",
       "    </tr>\n",
       "  </thead>\n",
       "  <tbody>\n",
       "    <tr>\n",
       "      <th>0</th>\n",
       "      <td>1</td>\n",
       "      <td>0</td>\n",
       "      <td>0</td>\n",
       "      <td>4</td>\n",
       "      <td>4</td>\n",
       "      <td>2019-100mb00000000091-8640595343ec11</td>\n",
       "      <td>0</td>\n",
       "      <td>Deepak Chahar</td>\n",
       "    </tr>\n",
       "    <tr>\n",
       "      <th>1</th>\n",
       "      <td>1</td>\n",
       "      <td>1</td>\n",
       "      <td>0</td>\n",
       "      <td>4</td>\n",
       "      <td>4</td>\n",
       "      <td>2020-100mb00000000539-04833b65639b11</td>\n",
       "      <td>0</td>\n",
       "      <td>Tushar Deshpande</td>\n",
       "    </tr>\n",
       "  </tbody>\n",
       "</table>\n",
       "</div>"
      ],
      "text/plain": [
       "   InningsNo  OverNo  BattingTeamID  OverRuns  BowlerRuns   \n",
       "0          1       0              0         4           4  \\\n",
       "1          1       1              0         4           4   \n",
       "\n",
       "                               BowlerID  Wickets            Bowler  \n",
       "0  2019-100mb00000000091-8640595343ec11        0     Deepak Chahar  \n",
       "1  2020-100mb00000000539-04833b65639b11        0  Tushar Deshpande  "
      ]
     },
     "execution_count": 25,
     "metadata": {},
     "output_type": "execute_result"
    }
   ],
   "source": [
    "ManhattanGraph_df = pd.DataFrame(ManhattanGraph_rows)\n",
    "ManhattanGraph_df.head(2)"
   ]
  },
  {
   "cell_type": "code",
   "execution_count": 26,
   "id": "9a9a54c8",
   "metadata": {},
   "outputs": [
    {
     "name": "stdout",
     "output_type": "stream",
     "text": [
      "exported to CSV\n"
     ]
    }
   ],
   "source": [
    "#ManhattanGraph_df.to_csv('1_ManhattanGraph.csv', index=False)\n",
    "print ('exported to CSV')"
   ]
  },
  {
   "cell_type": "markdown",
   "id": "c2fdd39c",
   "metadata": {},
   "source": [
    "# ManhattanWickets"
   ]
  },
  {
   "cell_type": "code",
   "execution_count": 8,
   "id": "06fa13dd",
   "metadata": {},
   "outputs": [],
   "source": [
    "if \"ManhattanWickets\" in data[\"Innings1\"]:\n",
    "    ManhattanWickets = data[\"Innings1\"][\"ManhattanWickets\"]\n",
    "\n",
    "    # Create a list of dictionaries representing rows\n",
    "    ManhattanWickets_rows = []\n",
    "    for item in ManhattanWickets:\n",
    "        ManhattanWickets_rows.append(item)"
   ]
  },
  {
   "cell_type": "code",
   "execution_count": 27,
   "id": "ee6d6c28",
   "metadata": {},
   "outputs": [
    {
     "data": {
      "text/html": [
       "<div>\n",
       "<style scoped>\n",
       "    .dataframe tbody tr th:only-of-type {\n",
       "        vertical-align: middle;\n",
       "    }\n",
       "\n",
       "    .dataframe tbody tr th {\n",
       "        vertical-align: top;\n",
       "    }\n",
       "\n",
       "    .dataframe thead th {\n",
       "        text-align: right;\n",
       "    }\n",
       "</style>\n",
       "<table border=\"1\" class=\"dataframe\">\n",
       "  <thead>\n",
       "    <tr style=\"text-align: right;\">\n",
       "      <th></th>\n",
       "      <th>InningsNo</th>\n",
       "      <th>OverNo</th>\n",
       "      <th>BattingTeamID</th>\n",
       "      <th>OutBatsman</th>\n",
       "      <th>OutDesc</th>\n",
       "      <th>BatsmanRuns</th>\n",
       "      <th>BatsmanBalls</th>\n",
       "    </tr>\n",
       "  </thead>\n",
       "  <tbody>\n",
       "    <tr>\n",
       "      <th>0</th>\n",
       "      <td>1</td>\n",
       "      <td>6</td>\n",
       "      <td>35</td>\n",
       "      <td>Shubman Gill</td>\n",
       "      <td>st MS Dhoni b Ravindra Jadeja</td>\n",
       "      <td>39</td>\n",
       "      <td>20</td>\n",
       "    </tr>\n",
       "    <tr>\n",
       "      <th>1</th>\n",
       "      <td>1</td>\n",
       "      <td>13</td>\n",
       "      <td>35</td>\n",
       "      <td>Wriddhiman Saha</td>\n",
       "      <td>c MS Dhoni b Deepak Chahar</td>\n",
       "      <td>54</td>\n",
       "      <td>39</td>\n",
       "    </tr>\n",
       "  </tbody>\n",
       "</table>\n",
       "</div>"
      ],
      "text/plain": [
       "   InningsNo  OverNo  BattingTeamID       OutBatsman   \n",
       "0          1       6             35     Shubman Gill  \\\n",
       "1          1      13             35  Wriddhiman Saha   \n",
       "\n",
       "                         OutDesc  BatsmanRuns  BatsmanBalls  \n",
       "0  st MS Dhoni b Ravindra Jadeja           39            20  \n",
       "1     c MS Dhoni b Deepak Chahar           54            39  "
      ]
     },
     "execution_count": 27,
     "metadata": {},
     "output_type": "execute_result"
    }
   ],
   "source": [
    "ManhattanWickets_df = pd.DataFrame(ManhattanWickets_rows)\n",
    "ManhattanWickets_df.head(2)"
   ]
  },
  {
   "cell_type": "code",
   "execution_count": 28,
   "id": "8eeb4df7",
   "metadata": {},
   "outputs": [
    {
     "name": "stdout",
     "output_type": "stream",
     "text": [
      "exported to CSV\n"
     ]
    }
   ],
   "source": [
    "#ManhattanWickets_df.to_csv('1_ManhattanWickets.csv', index=False)\n",
    "print ('exported to CSV')"
   ]
  },
  {
   "cell_type": "markdown",
   "id": "51a0747e",
   "metadata": {},
   "source": [
    "# OverHistory"
   ]
  },
  {
   "cell_type": "code",
   "execution_count": 9,
   "id": "d27f7780",
   "metadata": {},
   "outputs": [],
   "source": [
    "if \"OverHistory\" in data[\"Innings1\"]:\n",
    "    over_history = data[\"Innings1\"][\"OverHistory\"]\n",
    "\n",
    "    # Create a list of dictionaries representing rows\n",
    "    over_history_rows = []\n",
    "    for item in over_history:\n",
    "        over_history_rows.append(item)"
   ]
  },
  {
   "cell_type": "code",
   "execution_count": 29,
   "id": "d1cd8022",
   "metadata": {},
   "outputs": [
    {
     "data": {
      "text/html": [
       "<div>\n",
       "<style scoped>\n",
       "    .dataframe tbody tr th:only-of-type {\n",
       "        vertical-align: middle;\n",
       "    }\n",
       "\n",
       "    .dataframe tbody tr th {\n",
       "        vertical-align: top;\n",
       "    }\n",
       "\n",
       "    .dataframe thead th {\n",
       "        text-align: right;\n",
       "    }\n",
       "</style>\n",
       "<table border=\"1\" class=\"dataframe\">\n",
       "  <thead>\n",
       "    <tr style=\"text-align: right;\">\n",
       "      <th></th>\n",
       "      <th>BallID</th>\n",
       "      <th>BallUniqueID</th>\n",
       "      <th>ActualBallNo</th>\n",
       "      <th>MatchID</th>\n",
       "      <th>InningsNo</th>\n",
       "      <th>BattingTeamID</th>\n",
       "      <th>TeamName</th>\n",
       "      <th>StrikerID</th>\n",
       "      <th>NonStrikerID</th>\n",
       "      <th>BatsManName</th>\n",
       "      <th>...</th>\n",
       "      <th>BOWLING_LENGTH_ID</th>\n",
       "      <th>FiveHaul</th>\n",
       "      <th>HatCheck</th>\n",
       "      <th>Flag</th>\n",
       "      <th>FlagSet</th>\n",
       "      <th>PenaltyRuns</th>\n",
       "      <th>IsFifty</th>\n",
       "      <th>IsHundred</th>\n",
       "      <th>IsTwoHundred</th>\n",
       "      <th>IsHattrick</th>\n",
       "    </tr>\n",
       "  </thead>\n",
       "  <tbody>\n",
       "    <tr>\n",
       "      <th>0</th>\n",
       "      <td>6AAEFE9A-3B56-4CF5-B830-F9F79361FBD0</td>\n",
       "      <td>327433</td>\n",
       "      <td>1</td>\n",
       "      <td>1046</td>\n",
       "      <td>1</td>\n",
       "      <td>35</td>\n",
       "      <td>Gujarat Titans</td>\n",
       "      <td>2019-100mb00000000225-a11ad1bc44c011</td>\n",
       "      <td>2019-100mb00000000062-8fa4884a17f311</td>\n",
       "      <td>Wriddhiman Saha</td>\n",
       "      <td>...</td>\n",
       "      <td>Good Length</td>\n",
       "      <td>1</td>\n",
       "      <td>2019-100mb00000000091-8640595343ec11 - 0</td>\n",
       "      <td>0</td>\n",
       "      <td>0</td>\n",
       "      <td>0</td>\n",
       "      <td>0</td>\n",
       "      <td>0</td>\n",
       "      <td>0</td>\n",
       "      <td>0</td>\n",
       "    </tr>\n",
       "    <tr>\n",
       "      <th>1</th>\n",
       "      <td>3EC2BA93-765A-465B-BB97-49C45F96B4E4</td>\n",
       "      <td>327434</td>\n",
       "      <td>2</td>\n",
       "      <td>1046</td>\n",
       "      <td>1</td>\n",
       "      <td>35</td>\n",
       "      <td>Gujarat Titans</td>\n",
       "      <td>2019-100mb00000000225-a11ad1bc44c011</td>\n",
       "      <td>2019-100mb00000000062-8fa4884a17f311</td>\n",
       "      <td>Wriddhiman Saha</td>\n",
       "      <td>...</td>\n",
       "      <td>Good Length</td>\n",
       "      <td>0</td>\n",
       "      <td>2019-100mb00000000091-8640595343ec11 - 0</td>\n",
       "      <td>0</td>\n",
       "      <td>0</td>\n",
       "      <td>0</td>\n",
       "      <td>0</td>\n",
       "      <td>0</td>\n",
       "      <td>0</td>\n",
       "      <td>0</td>\n",
       "    </tr>\n",
       "  </tbody>\n",
       "</table>\n",
       "<p>2 rows × 73 columns</p>\n",
       "</div>"
      ],
      "text/plain": [
       "                                 BallID BallUniqueID ActualBallNo MatchID   \n",
       "0  6AAEFE9A-3B56-4CF5-B830-F9F79361FBD0       327433            1    1046  \\\n",
       "1  3EC2BA93-765A-465B-BB97-49C45F96B4E4       327434            2    1046   \n",
       "\n",
       "   InningsNo BattingTeamID        TeamName   \n",
       "0          1            35  Gujarat Titans  \\\n",
       "1          1            35  Gujarat Titans   \n",
       "\n",
       "                              StrikerID                          NonStrikerID   \n",
       "0  2019-100mb00000000225-a11ad1bc44c011  2019-100mb00000000062-8fa4884a17f311  \\\n",
       "1  2019-100mb00000000225-a11ad1bc44c011  2019-100mb00000000062-8fa4884a17f311   \n",
       "\n",
       "       BatsManName  ... BOWLING_LENGTH_ID FiveHaul   \n",
       "0  Wriddhiman Saha  ...       Good Length        1  \\\n",
       "1  Wriddhiman Saha  ...       Good Length        0   \n",
       "\n",
       "                                   HatCheck  Flag FlagSet PenaltyRuns IsFifty   \n",
       "0  2019-100mb00000000091-8640595343ec11 - 0     0       0           0       0  \\\n",
       "1  2019-100mb00000000091-8640595343ec11 - 0     0       0           0       0   \n",
       "\n",
       "  IsHundred IsTwoHundred IsHattrick  \n",
       "0         0            0          0  \n",
       "1         0            0          0  \n",
       "\n",
       "[2 rows x 73 columns]"
      ]
     },
     "execution_count": 29,
     "metadata": {},
     "output_type": "execute_result"
    }
   ],
   "source": [
    "over_history_df = pd.DataFrame(over_history_rows)\n",
    "over_history_df.head(2)"
   ]
  },
  {
   "cell_type": "code",
   "execution_count": 30,
   "id": "80824a8e",
   "metadata": {},
   "outputs": [
    {
     "name": "stdout",
     "output_type": "stream",
     "text": [
      "exported to CSV\n"
     ]
    }
   ],
   "source": [
    "#over_history_df.to_csv('1_over_history.csv', index=False)\n",
    "print ('exported to CSV')"
   ]
  },
  {
   "cell_type": "markdown",
   "id": "29f5a3d3",
   "metadata": {},
   "source": [
    "# PartnershipBreak"
   ]
  },
  {
   "cell_type": "code",
   "execution_count": 10,
   "id": "b5f70f50",
   "metadata": {},
   "outputs": [],
   "source": [
    "if \"PartnershipBreak\" in data[\"Innings1\"]:\n",
    "    PartnershipBreak = data[\"Innings1\"][\"PartnershipBreak\"]\n",
    "\n",
    "    # Create a list of dictionaries representing rows\n",
    "    PartnershipBreak_rows = []\n",
    "    for item in PartnershipBreak:\n",
    "        PartnershipBreak_rows.append(item)"
   ]
  },
  {
   "cell_type": "code",
   "execution_count": 31,
   "id": "db55c014",
   "metadata": {},
   "outputs": [
    {
     "data": {
      "text/html": [
       "<div>\n",
       "<style scoped>\n",
       "    .dataframe tbody tr th:only-of-type {\n",
       "        vertical-align: middle;\n",
       "    }\n",
       "\n",
       "    .dataframe tbody tr th {\n",
       "        vertical-align: top;\n",
       "    }\n",
       "\n",
       "    .dataframe thead th {\n",
       "        text-align: right;\n",
       "    }\n",
       "</style>\n",
       "<table border=\"1\" class=\"dataframe\">\n",
       "  <thead>\n",
       "    <tr style=\"text-align: right;\">\n",
       "      <th></th>\n",
       "      <th>InningsNo</th>\n",
       "      <th>OverNo</th>\n",
       "      <th>WicketNo</th>\n",
       "      <th>WicketType</th>\n",
       "      <th>OutBatsmanID</th>\n",
       "    </tr>\n",
       "  </thead>\n",
       "  <tbody>\n",
       "    <tr>\n",
       "      <th>0</th>\n",
       "      <td>1</td>\n",
       "      <td>6.6</td>\n",
       "      <td>1</td>\n",
       "      <td>Stumped</td>\n",
       "      <td>2019-100mb00000000062-8fa4884a17f311</td>\n",
       "    </tr>\n",
       "    <tr>\n",
       "      <th>1</th>\n",
       "      <td>1</td>\n",
       "      <td>13.6</td>\n",
       "      <td>2</td>\n",
       "      <td>Caught</td>\n",
       "      <td>2019-100mb00000000225-a11ad1bc44c011</td>\n",
       "    </tr>\n",
       "  </tbody>\n",
       "</table>\n",
       "</div>"
      ],
      "text/plain": [
       "   InningsNo OverNo  WicketNo WicketType                          OutBatsmanID\n",
       "0          1    6.6         1    Stumped  2019-100mb00000000062-8fa4884a17f311\n",
       "1          1   13.6         2     Caught  2019-100mb00000000225-a11ad1bc44c011"
      ]
     },
     "execution_count": 31,
     "metadata": {},
     "output_type": "execute_result"
    }
   ],
   "source": [
    "PartnershipBreak_df = pd.DataFrame(PartnershipBreak_rows)\n",
    "PartnershipBreak_df.head(2)"
   ]
  },
  {
   "cell_type": "code",
   "execution_count": 32,
   "id": "eec3c6a9",
   "metadata": {},
   "outputs": [
    {
     "name": "stdout",
     "output_type": "stream",
     "text": [
      "exported to CSV\n"
     ]
    }
   ],
   "source": [
    "#PartnershipBreak_df.to_csv('1_PartnershipBreak.csv', index=False)\n",
    "print ('exported to CSV')"
   ]
  },
  {
   "cell_type": "markdown",
   "id": "1dbe8653",
   "metadata": {},
   "source": [
    "# PartnershipScores"
   ]
  },
  {
   "cell_type": "code",
   "execution_count": 11,
   "id": "9ca11524",
   "metadata": {},
   "outputs": [],
   "source": [
    "if \"PartnershipScores\" in data[\"Innings1\"]:\n",
    "    PartnershipScores = data[\"Innings1\"][\"PartnershipScores\"]\n",
    "\n",
    "    # Create a list of dictionaries representing rows\n",
    "    PartnershipScores_rows = []\n",
    "    for item in PartnershipScores:\n",
    "        PartnershipScores_rows.append(item)"
   ]
  },
  {
   "cell_type": "code",
   "execution_count": 33,
   "id": "90017e46",
   "metadata": {},
   "outputs": [
    {
     "data": {
      "text/html": [
       "<div>\n",
       "<style scoped>\n",
       "    .dataframe tbody tr th:only-of-type {\n",
       "        vertical-align: middle;\n",
       "    }\n",
       "\n",
       "    .dataframe tbody tr th {\n",
       "        vertical-align: top;\n",
       "    }\n",
       "\n",
       "    .dataframe thead th {\n",
       "        text-align: right;\n",
       "    }\n",
       "</style>\n",
       "<table border=\"1\" class=\"dataframe\">\n",
       "  <thead>\n",
       "    <tr style=\"text-align: right;\">\n",
       "      <th></th>\n",
       "      <th>MatchID</th>\n",
       "      <th>BattingTeamID</th>\n",
       "      <th>InningsNo</th>\n",
       "      <th>StrikerID</th>\n",
       "      <th>Striker</th>\n",
       "      <th>NonStrikerID</th>\n",
       "      <th>PartnershipTotal</th>\n",
       "      <th>StrikerRuns</th>\n",
       "      <th>StrikerBalls</th>\n",
       "      <th>Extras</th>\n",
       "      <th>NonStrikerRuns</th>\n",
       "      <th>NonStrikerBalls</th>\n",
       "      <th>MatchMaxOver</th>\n",
       "      <th>MatchMinOver</th>\n",
       "      <th>NonStriker</th>\n",
       "      <th>@I := 0</th>\n",
       "      <th>RowNumber</th>\n",
       "    </tr>\n",
       "  </thead>\n",
       "  <tbody>\n",
       "    <tr>\n",
       "      <th>0</th>\n",
       "      <td>1046</td>\n",
       "      <td>35</td>\n",
       "      <td>1</td>\n",
       "      <td>2019-100mb00000000225-a11ad1bc44c011</td>\n",
       "      <td>Wriddhiman Saha</td>\n",
       "      <td>2019-100mb00000000062-8fa4884a17f311</td>\n",
       "      <td>67</td>\n",
       "      <td>28</td>\n",
       "      <td>22</td>\n",
       "      <td>0</td>\n",
       "      <td>39</td>\n",
       "      <td>20</td>\n",
       "      <td>6.6</td>\n",
       "      <td>0.1</td>\n",
       "      <td>Shubman Gill</td>\n",
       "      <td>0</td>\n",
       "      <td>1</td>\n",
       "    </tr>\n",
       "    <tr>\n",
       "      <th>1</th>\n",
       "      <td>1046</td>\n",
       "      <td>35</td>\n",
       "      <td>1</td>\n",
       "      <td>2019-100mb00000000062-8fa4884a17f311</td>\n",
       "      <td>Shubman Gill</td>\n",
       "      <td>2019-100mb00000000225-a11ad1bc44c011</td>\n",
       "      <td>67</td>\n",
       "      <td>39</td>\n",
       "      <td>20</td>\n",
       "      <td>0</td>\n",
       "      <td>28</td>\n",
       "      <td>22</td>\n",
       "      <td>6.6</td>\n",
       "      <td>0.1</td>\n",
       "      <td>Wriddhiman Saha</td>\n",
       "      <td>0</td>\n",
       "      <td>2</td>\n",
       "    </tr>\n",
       "  </tbody>\n",
       "</table>\n",
       "</div>"
      ],
      "text/plain": [
       "   MatchID  BattingTeamID  InningsNo                             StrikerID   \n",
       "0     1046             35          1  2019-100mb00000000225-a11ad1bc44c011  \\\n",
       "1     1046             35          1  2019-100mb00000000062-8fa4884a17f311   \n",
       "\n",
       "           Striker                          NonStrikerID  PartnershipTotal   \n",
       "0  Wriddhiman Saha  2019-100mb00000000062-8fa4884a17f311                67  \\\n",
       "1     Shubman Gill  2019-100mb00000000225-a11ad1bc44c011                67   \n",
       "\n",
       "   StrikerRuns  StrikerBalls  Extras  NonStrikerRuns  NonStrikerBalls   \n",
       "0           28            22       0              39               20  \\\n",
       "1           39            20       0              28               22   \n",
       "\n",
       "   MatchMaxOver  MatchMinOver       NonStriker @I := 0  RowNumber  \n",
       "0           6.6           0.1     Shubman Gill       0          1  \n",
       "1           6.6           0.1  Wriddhiman Saha       0          2  "
      ]
     },
     "execution_count": 33,
     "metadata": {},
     "output_type": "execute_result"
    }
   ],
   "source": [
    "PartnershipScores_df = pd.DataFrame(PartnershipScores_rows)\n",
    "PartnershipScores_df.head(2)"
   ]
  },
  {
   "cell_type": "code",
   "execution_count": 34,
   "id": "25167b28",
   "metadata": {},
   "outputs": [
    {
     "name": "stdout",
     "output_type": "stream",
     "text": [
      "exported to CSV\n"
     ]
    }
   ],
   "source": [
    "#PartnershipScores_df.to_csv('1_PartnershipScores.csv', index=False)\n",
    "print ('exported to CSV')"
   ]
  },
  {
   "cell_type": "markdown",
   "id": "017930cf",
   "metadata": {},
   "source": [
    "# WagonWheel"
   ]
  },
  {
   "cell_type": "code",
   "execution_count": 12,
   "id": "90af40d9",
   "metadata": {},
   "outputs": [],
   "source": [
    "if \"WagonWheel\" in data[\"Innings1\"]:\n",
    "    WagonWheel = data[\"Innings1\"][\"WagonWheel\"]\n",
    "\n",
    "    # Create a list of dictionaries representing rows\n",
    "    WagonWheel_rows = []\n",
    "    for item in WagonWheel:\n",
    "        WagonWheel_rows.append(item)"
   ]
  },
  {
   "cell_type": "code",
   "execution_count": 35,
   "id": "45b0e14d",
   "metadata": {},
   "outputs": [
    {
     "data": {
      "text/html": [
       "<div>\n",
       "<style scoped>\n",
       "    .dataframe tbody tr th:only-of-type {\n",
       "        vertical-align: middle;\n",
       "    }\n",
       "\n",
       "    .dataframe tbody tr th {\n",
       "        vertical-align: top;\n",
       "    }\n",
       "\n",
       "    .dataframe thead th {\n",
       "        text-align: right;\n",
       "    }\n",
       "</style>\n",
       "<table border=\"1\" class=\"dataframe\">\n",
       "  <thead>\n",
       "    <tr style=\"text-align: right;\">\n",
       "      <th></th>\n",
       "      <th>BallID</th>\n",
       "      <th>StrikerID</th>\n",
       "      <th>BowlerID</th>\n",
       "      <th>FielderAngle</th>\n",
       "      <th>FielderLengthRatio</th>\n",
       "      <th>Runs</th>\n",
       "      <th>IsFour</th>\n",
       "      <th>IsSix</th>\n",
       "      <th>BatType</th>\n",
       "    </tr>\n",
       "  </thead>\n",
       "  <tbody>\n",
       "    <tr>\n",
       "      <th>0</th>\n",
       "      <td>710C3ECA-0278-419D-90C1-656A7CD99BC2</td>\n",
       "      <td>2019-100mb00000000225-a11ad1bc44c011</td>\n",
       "      <td>2019-100mb00000000091-8640595343ec11</td>\n",
       "      <td>23.99058</td>\n",
       "      <td>0.51</td>\n",
       "      <td>1</td>\n",
       "      <td>0</td>\n",
       "      <td>0</td>\n",
       "      <td>R</td>\n",
       "    </tr>\n",
       "    <tr>\n",
       "      <th>1</th>\n",
       "      <td>88C057E4-9A39-45CB-9A6C-B92FB1D128A3</td>\n",
       "      <td>2019-100mb00000000062-8fa4884a17f311</td>\n",
       "      <td>2019-100mb00000000091-8640595343ec11</td>\n",
       "      <td>26.13139</td>\n",
       "      <td>0.69</td>\n",
       "      <td>1</td>\n",
       "      <td>0</td>\n",
       "      <td>0</td>\n",
       "      <td>R</td>\n",
       "    </tr>\n",
       "  </tbody>\n",
       "</table>\n",
       "</div>"
      ],
      "text/plain": [
       "                                 BallID                             StrikerID   \n",
       "0  710C3ECA-0278-419D-90C1-656A7CD99BC2  2019-100mb00000000225-a11ad1bc44c011  \\\n",
       "1  88C057E4-9A39-45CB-9A6C-B92FB1D128A3  2019-100mb00000000062-8fa4884a17f311   \n",
       "\n",
       "                               BowlerID  FielderAngle  FielderLengthRatio   \n",
       "0  2019-100mb00000000091-8640595343ec11      23.99058                0.51  \\\n",
       "1  2019-100mb00000000091-8640595343ec11      26.13139                0.69   \n",
       "\n",
       "   Runs  IsFour  IsSix BatType  \n",
       "0     1       0      0       R  \n",
       "1     1       0      0       R  "
      ]
     },
     "execution_count": 35,
     "metadata": {},
     "output_type": "execute_result"
    }
   ],
   "source": [
    "WagonWheel_df = pd.DataFrame(WagonWheel_rows)\n",
    "WagonWheel_df.head(2)"
   ]
  },
  {
   "cell_type": "code",
   "execution_count": 36,
   "id": "44e36f9f",
   "metadata": {},
   "outputs": [
    {
     "name": "stdout",
     "output_type": "stream",
     "text": [
      "exported to CSV\n"
     ]
    }
   ],
   "source": [
    "#WagonWheel_df.to_csv('1_WagonWheel.csv', index=False)\n",
    "print ('exported to CSV')"
   ]
  },
  {
   "cell_type": "code",
   "execution_count": null,
   "id": "97179954",
   "metadata": {},
   "outputs": [],
   "source": []
  }
 ],
 "metadata": {
  "kernelspec": {
   "display_name": "Python 3 (ipykernel)",
   "language": "python",
   "name": "python3"
  },
  "language_info": {
   "codemirror_mode": {
    "name": "ipython",
    "version": 3
   },
   "file_extension": ".py",
   "mimetype": "text/x-python",
   "name": "python",
   "nbconvert_exporter": "python",
   "pygments_lexer": "ipython3",
   "version": "3.11.2"
  }
 },
 "nbformat": 4,
 "nbformat_minor": 5
}
